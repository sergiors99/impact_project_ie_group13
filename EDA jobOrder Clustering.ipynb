{
 "cells": [
  {
   "cell_type": "code",
   "execution_count": null,
   "metadata": {},
   "outputs": [],
   "source": [
    "# Importing necessary libraries\n",
    "import pandas as pd\n",
    "import numpy as np\n",
    "import matplotlib.pyplot as plt\n",
    "import matplotlib.image as mpimg\n",
    "import warnings"
   ]
  },
  {
   "cell_type": "code",
   "execution_count": 2,
   "metadata": {},
   "outputs": [],
   "source": [
    "warnings.filterwarnings(\"ignore\")\n",
    "jobOrder_fam = pd.read_csv(\"jobOrder_Clean.csv\", sep='|', encoding='latin-1')"
   ]
  },
  {
   "cell_type": "code",
   "execution_count": 3,
   "metadata": {},
   "outputs": [],
   "source": [
    "jobOrder_fam[\"PRIMARY_KEY\"] = jobOrder_fam[\"CONF_CODE\"].astype(str) + \"_\" + jobOrder_fam[\"ORDER_ROW\"].astype(str) + \"_\" + jobOrder_fam[\"JO_PROG\"].astype(str)"
   ]
  },
  {
   "cell_type": "code",
   "execution_count": 4,
   "metadata": {},
   "outputs": [],
   "source": [
    "jobOrder_fam[\"LAUNCH_DATE\"] = pd.to_datetime(jobOrder_fam[\"LAUNCH_DATE\"])"
   ]
  },
  {
   "cell_type": "code",
   "execution_count": 5,
   "metadata": {},
   "outputs": [],
   "source": [
    "jobOrder_fam = jobOrder_fam[jobOrder_fam['SCHEDULED_QTY'] == 1]"
   ]
  },
  {
   "cell_type": "code",
   "execution_count": 470,
   "metadata": {},
   "outputs": [],
   "source": [
    "not_relevant = [\"SCHEDULED_QTY\"]\n",
    "jobOrder_fam.drop(columns=not_relevant, inplace=True)"
   ]
  },
  {
   "cell_type": "code",
   "execution_count": 478,
   "metadata": {},
   "outputs": [
    {
     "data": {
      "text/plain": [
       "817"
      ]
     },
     "execution_count": 478,
     "metadata": {},
     "output_type": "execute_result"
    }
   ],
   "source": [
    "len(jobOrder_fam[\"PRODUCT_CODE\"].unique())"
   ]
  },
  {
   "cell_type": "code",
   "execution_count": 479,
   "metadata": {},
   "outputs": [
    {
     "data": {
      "text/plain": [
       "3201.0    5009149\n",
       "6401.0    2113676\n",
       "7401.0    1691578\n",
       "1001.0    1132151\n",
       "6001.0     948030\n",
       "2301.0     526170\n",
       "2801.0     377653\n",
       "401.0      314757\n",
       "6101.0      42702\n",
       "4101.0      41229\n",
       "6201.0      22965\n",
       "8001.0       3198\n",
       "3001.0       2126\n",
       "6301.0       1568\n",
       "2001.0       1261\n",
       "9901.0       1116\n",
       "2201.0        718\n",
       "7001.0        358\n",
       "201.0         335\n",
       "7101.0        330\n",
       "5501.0        253\n",
       "6901.0        238\n",
       "7301.0         72\n",
       "7201.0         42\n",
       "1301.0         32\n",
       "6110.0         18\n",
       "8101.0         15\n",
       "801.0          14\n",
       "210.0           6\n",
       "1511.0          5\n",
       "6501.0          2\n",
       "2101.0          1\n",
       "Name: MATERIAL_CODE, dtype: int64"
      ]
     },
     "execution_count": 479,
     "metadata": {},
     "output_type": "execute_result"
    }
   ],
   "source": [
    "category_material = jobOrder_fam[\"MATERIAL_CODE\"].value_counts()"
   ]
  },
  {
   "cell_type": "code",
   "execution_count": 480,
   "metadata": {},
   "outputs": [],
   "source": [
    "ranks = category_material.rank(ascending=False, method='min')"
   ]
  },
  {
   "cell_type": "code",
   "execution_count": 482,
   "metadata": {},
   "outputs": [],
   "source": [
    "jobOrder_fam['category_material'] = jobOrder_fam['MATERIAL_CODE'].map(ranks)"
   ]
  },
  {
   "cell_type": "code",
   "execution_count": 503,
   "metadata": {},
   "outputs": [],
   "source": [
    "jobOrder_new = jobOrder_fam[jobOrder_fam['LAUNCH_DATE'].notnull()]"
   ]
  },
  {
   "cell_type": "code",
   "execution_count": 504,
   "metadata": {},
   "outputs": [],
   "source": [
    "warnings.filterwarnings(\"ignore\")\n",
    "jobOrder_new['month'] = jobOrder_new['LAUNCH_DATE'].dt.month\n",
    "warnings.filterwarnings(\"default\")"
   ]
  },
  {
   "cell_type": "code",
   "execution_count": 506,
   "metadata": {},
   "outputs": [
    {
     "name": "stdout",
     "output_type": "stream",
     "text": [
      "CONF_CODE                  0\n",
      "ORDER_ROW                  0\n",
      "JO_PROG                    0\n",
      "CUST_CODE                  0\n",
      "PRIORITY_COMP              0\n",
      "PRODUCT_CODE               0\n",
      "MATERIAL_CODE              0\n",
      "BATCH_NUMBER               0\n",
      "LATHE_SETUP               12\n",
      "BASE_RADIUS                0\n",
      "POWER                      0\n",
      "CYLINDER             2766320\n",
      "POWER_AXIS           2766320\n",
      "DIAMETER                   0\n",
      "CENTER_THK                 0\n",
      "SCHEDULED_DATE             0\n",
      "LAUNCH_DATE                0\n",
      "REJECTS_QTY                0\n",
      "DELIVERY_DATE         144739\n",
      "Adicion              8952112\n",
      "ItemCode              120963\n",
      "ItemName                 156\n",
      "LinProd                  156\n",
      "CodFam                   156\n",
      "CodSubFam                156\n",
      "PRIMARY_KEY                0\n",
      "category_material          0\n",
      "month                      0\n",
      "dtype: int64\n"
     ]
    }
   ],
   "source": [
    "null_counts = jobOrder_new.isnull().sum()\n",
    "print(null_counts)"
   ]
  },
  {
   "cell_type": "code",
   "execution_count": 508,
   "metadata": {},
   "outputs": [
    {
     "data": {
      "text/plain": [
       "1.0     10858985\n",
       "2.0       811883\n",
       "3.0       268321\n",
       "10.0      120963\n",
       "14.0      111298\n",
       "13.0           2\n",
       "Name: CodFam, dtype: int64"
      ]
     },
     "execution_count": 508,
     "metadata": {},
     "output_type": "execute_result"
    }
   ],
   "source": [
    "category_fam = jobOrder_new[\"CodFam\"].value_counts()"
   ]
  },
  {
   "cell_type": "code",
   "execution_count": 509,
   "metadata": {},
   "outputs": [
    {
     "data": {
      "text/plain": [
       "1.0     1.0\n",
       "2.0     2.0\n",
       "3.0     3.0\n",
       "10.0    4.0\n",
       "14.0    5.0\n",
       "13.0    6.0\n",
       "Name: CodFam, dtype: float64"
      ]
     },
     "execution_count": 509,
     "metadata": {},
     "output_type": "execute_result"
    }
   ],
   "source": [
    "ranks = category_fam.rank(ascending=False, method='min')"
   ]
  },
  {
   "cell_type": "code",
   "execution_count": 510,
   "metadata": {},
   "outputs": [
    {
     "name": "stderr",
     "output_type": "stream",
     "text": [
      "/var/folders/6x/6k8btdy572s70bshk282zpvr0000gn/T/ipykernel_58436/2695955486.py:1: SettingWithCopyWarning: \n",
      "A value is trying to be set on a copy of a slice from a DataFrame.\n",
      "Try using .loc[row_indexer,col_indexer] = value instead\n",
      "\n",
      "See the caveats in the documentation: https://pandas.pydata.org/pandas-docs/stable/user_guide/indexing.html#returning-a-view-versus-a-copy\n",
      "  jobOrder_new['category_fam'] = jobOrder_new['CodFam'].map(ranks)\n"
     ]
    }
   ],
   "source": [
    "jobOrder_new['category_fam'] = jobOrder_new['CodFam'].map(ranks)"
   ]
  },
  {
   "cell_type": "code",
   "execution_count": 512,
   "metadata": {},
   "outputs": [
    {
     "data": {
      "text/plain": [
       "3.0    6274927\n",
       "6.0    3073618\n",
       "1.0    1368694\n",
       "5.0    1333249\n",
       "8.0     120963\n",
       "2.0          1\n",
       "Name: CodSubFam, dtype: int64"
      ]
     },
     "execution_count": 512,
     "metadata": {},
     "output_type": "execute_result"
    }
   ],
   "source": [
    "category_subfam = jobOrder_new[\"CodSubFam\"].value_counts()"
   ]
  },
  {
   "cell_type": "code",
   "execution_count": 513,
   "metadata": {},
   "outputs": [
    {
     "name": "stderr",
     "output_type": "stream",
     "text": [
      "/var/folders/6x/6k8btdy572s70bshk282zpvr0000gn/T/ipykernel_58436/3421266748.py:2: SettingWithCopyWarning: \n",
      "A value is trying to be set on a copy of a slice from a DataFrame.\n",
      "Try using .loc[row_indexer,col_indexer] = value instead\n",
      "\n",
      "See the caveats in the documentation: https://pandas.pydata.org/pandas-docs/stable/user_guide/indexing.html#returning-a-view-versus-a-copy\n",
      "  jobOrder_new['category_subfam'] = jobOrder_new['CodSubFam'].map(ranks)\n"
     ]
    }
   ],
   "source": [
    "ranks = category_subfam.rank(ascending=False, method='min')\n",
    "jobOrder_new['category_subfam'] = jobOrder_new['CodSubFam'].map(ranks)"
   ]
  },
  {
   "cell_type": "code",
   "execution_count": 515,
   "metadata": {},
   "outputs": [
    {
     "data": {
      "text/plain": [
       "1.0    6274927\n",
       "2.0    3073618\n",
       "3.0    1368694\n",
       "4.0    1333249\n",
       "5.0     120963\n",
       "6.0          1\n",
       "Name: category_subfam, dtype: int64"
      ]
     },
     "execution_count": 515,
     "metadata": {},
     "output_type": "execute_result"
    }
   ],
   "source": [
    "jobOrder_new['category_subfam'].value_counts()"
   ]
  },
  {
   "cell_type": "markdown",
   "metadata": {},
   "source": [
    "As you can observe in the value counts above, there are some values that are only repeated a few times, therefore, for the following categories, based on their distribution, we decided on different thresholds to remove some data."
   ]
  },
  {
   "cell_type": "code",
   "execution_count": 516,
   "metadata": {},
   "outputs": [],
   "source": [
    "code_counts = jobOrder_new['PRODUCT_CODE'].value_counts()\n",
    "codes_to_drop = code_counts[code_counts < 5000].index\n",
    "jobOrder_new = jobOrder_new[~jobOrder_new['PRODUCT_CODE'].isin(codes_to_drop)]"
   ]
  },
  {
   "cell_type": "code",
   "execution_count": 517,
   "metadata": {},
   "outputs": [],
   "source": [
    "code_counts = jobOrder_new['MATERIAL_CODE'].value_counts()\n",
    "codes_to_drop = code_counts[code_counts < 3500].index\n",
    "jobOrder_new = jobOrder_new[~jobOrder_new['MATERIAL_CODE'].isin(codes_to_drop)]"
   ]
  },
  {
   "cell_type": "code",
   "execution_count": 518,
   "metadata": {},
   "outputs": [],
   "source": [
    "code_counts = jobOrder_new['BASE_RADIUS'].value_counts()\n",
    "codes_to_drop = code_counts[code_counts < 2300].index\n",
    "jobOrder_new = jobOrder_new[~jobOrder_new['BASE_RADIUS'].isin(codes_to_drop)]"
   ]
  },
  {
   "cell_type": "code",
   "execution_count": 519,
   "metadata": {},
   "outputs": [],
   "source": [
    "code_counts = jobOrder_new['POWER'].value_counts()\n",
    "codes_to_drop = code_counts[code_counts < 3500].index\n",
    "jobOrder_new = jobOrder_new[~jobOrder_new['POWER'].isin(codes_to_drop)]"
   ]
  },
  {
   "cell_type": "code",
   "execution_count": 520,
   "metadata": {},
   "outputs": [],
   "source": [
    "code_counts = jobOrder_new['CYLINDER'].value_counts()\n",
    "codes_to_drop = code_counts[code_counts < 2700].index\n",
    "jobOrder_new = jobOrder_new[~jobOrder_new['CYLINDER'].isin(codes_to_drop)]"
   ]
  },
  {
   "cell_type": "code",
   "execution_count": 521,
   "metadata": {},
   "outputs": [],
   "source": [
    "code_counts = jobOrder_new['POWER_AXIS'].value_counts()\n",
    "codes_to_drop = code_counts[code_counts < 19300].index\n",
    "jobOrder_new = jobOrder_new[~jobOrder_new['POWER_AXIS'].isin(codes_to_drop)]"
   ]
  },
  {
   "cell_type": "code",
   "execution_count": 522,
   "metadata": {},
   "outputs": [],
   "source": [
    "code_counts = jobOrder_new['DIAMETER'].value_counts()\n",
    "codes_to_drop = code_counts[code_counts < 900].index\n",
    "jobOrder_new = jobOrder_new[~jobOrder_new['DIAMETER'].isin(codes_to_drop)]"
   ]
  },
  {
   "cell_type": "code",
   "execution_count": 523,
   "metadata": {},
   "outputs": [],
   "source": [
    "code_counts = jobOrder_new['CENTER_THK'].value_counts()\n",
    "codes_to_drop = code_counts[code_counts < 1000].index\n",
    "jobOrder_new = jobOrder_new[~jobOrder_new['CENTER_THK'].isin(codes_to_drop)]"
   ]
  },
  {
   "cell_type": "code",
   "execution_count": 524,
   "metadata": {},
   "outputs": [],
   "source": [
    "code_counts = jobOrder_new['category_fam'].value_counts()\n",
    "codes_to_drop = code_counts[code_counts < 2].index\n",
    "jobOrder_new = jobOrder_new[~jobOrder_new['category_fam'].isin(codes_to_drop)]"
   ]
  },
  {
   "cell_type": "code",
   "execution_count": 525,
   "metadata": {},
   "outputs": [],
   "source": [
    "code_counts = jobOrder_new['category_subfam'].value_counts()\n",
    "codes_to_drop = code_counts[code_counts < 1].index\n",
    "jobOrder_new = jobOrder_new[~jobOrder_new['category_subfam'].isin(codes_to_drop)]"
   ]
  },
  {
   "cell_type": "code",
   "execution_count": 526,
   "metadata": {},
   "outputs": [
    {
     "name": "stdout",
     "output_type": "stream",
     "text": [
      "CONF_CODE                  0\n",
      "ORDER_ROW                  0\n",
      "JO_PROG                    0\n",
      "CUST_CODE                  0\n",
      "PRIORITY_COMP              0\n",
      "PRODUCT_CODE               0\n",
      "MATERIAL_CODE              0\n",
      "BATCH_NUMBER               0\n",
      "LATHE_SETUP                0\n",
      "BASE_RADIUS                0\n",
      "POWER                      0\n",
      "CYLINDER             2545395\n",
      "POWER_AXIS           2545395\n",
      "DIAMETER                   0\n",
      "CENTER_THK                 0\n",
      "SCHEDULED_DATE             0\n",
      "LAUNCH_DATE                0\n",
      "REJECTS_QTY                0\n",
      "DELIVERY_DATE          74118\n",
      "Adicion              7889241\n",
      "ItemCode               50113\n",
      "ItemName                 150\n",
      "LinProd                  150\n",
      "CodFam                   150\n",
      "CodSubFam                150\n",
      "PRIMARY_KEY                0\n",
      "category_material          0\n",
      "month                      0\n",
      "category_fam             150\n",
      "category_subfam          150\n",
      "dtype: int64\n"
     ]
    }
   ],
   "source": [
    "null_counts = jobOrder_new.isnull().sum()\n",
    "\n",
    "print(null_counts)"
   ]
  },
  {
   "cell_type": "code",
   "execution_count": 527,
   "metadata": {},
   "outputs": [],
   "source": [
    "jobOrder_cluster = jobOrder_new[jobOrder_new['LAUNCH_DATE'].dt.year >= 2020]"
   ]
  },
  {
   "cell_type": "code",
   "execution_count": 528,
   "metadata": {},
   "outputs": [],
   "source": [
    "mask = jobOrder_cluster['DELIVERY_DATE'].notnull()\n",
    "\n",
    "jobOrder_cluster = jobOrder_cluster[mask]"
   ]
  },
  {
   "cell_type": "code",
   "execution_count": 529,
   "metadata": {},
   "outputs": [],
   "source": [
    "mask = jobOrder_cluster['ItemCode'].notnull() & jobOrder_cluster['ItemName'].notnull() & jobOrder_cluster['LinProd'].notnull() & jobOrder_cluster['CodFam'].notnull() & jobOrder_cluster['CodSubFam'].notnull()"
   ]
  },
  {
   "cell_type": "code",
   "execution_count": 530,
   "metadata": {},
   "outputs": [
    {
     "name": "stdout",
     "output_type": "stream",
     "text": [
      "CONF_CODE                  0\n",
      "ORDER_ROW                  0\n",
      "JO_PROG                    0\n",
      "CUST_CODE                  0\n",
      "PRIORITY_COMP              0\n",
      "PRODUCT_CODE               0\n",
      "MATERIAL_CODE              0\n",
      "BATCH_NUMBER               0\n",
      "LATHE_SETUP                0\n",
      "BASE_RADIUS                0\n",
      "POWER                      0\n",
      "CYLINDER             1183827\n",
      "POWER_AXIS           1183827\n",
      "DIAMETER                   0\n",
      "CENTER_THK                 0\n",
      "SCHEDULED_DATE             0\n",
      "LAUNCH_DATE                0\n",
      "REJECTS_QTY                0\n",
      "DELIVERY_DATE              0\n",
      "Adicion              3166420\n",
      "ItemCode                 275\n",
      "ItemName                  59\n",
      "LinProd                   59\n",
      "CodFam                    59\n",
      "CodSubFam                 59\n",
      "PRIMARY_KEY                0\n",
      "category_material          0\n",
      "month                      0\n",
      "category_fam              59\n",
      "category_subfam           59\n",
      "dtype: int64\n"
     ]
    }
   ],
   "source": [
    "null_counts = jobOrder_cluster.isnull().sum()\n",
    "\n",
    "print(null_counts)"
   ]
  },
  {
   "cell_type": "code",
   "execution_count": 531,
   "metadata": {},
   "outputs": [],
   "source": [
    "jobOrder_cluster = jobOrder_cluster.dropna(subset=['category_fam', 'category_subfam'])"
   ]
  },
  {
   "cell_type": "code",
   "execution_count": 532,
   "metadata": {},
   "outputs": [
    {
     "data": {
      "text/plain": [
       "(1183827, 30)"
      ]
     },
     "execution_count": 532,
     "metadata": {},
     "output_type": "execute_result"
    }
   ],
   "source": [
    "mask = jobOrder_cluster['CYLINDER'].isnull() & jobOrder_cluster['POWER_AXIS'].isnull()\n",
    "\n",
    "jobOrder_A = jobOrder_cluster[mask]"
   ]
  },
  {
   "cell_type": "code",
   "execution_count": 533,
   "metadata": {},
   "outputs": [
    {
     "name": "stdout",
     "output_type": "stream",
     "text": [
      "CONF_CODE                  0\n",
      "ORDER_ROW                  0\n",
      "JO_PROG                    0\n",
      "CUST_CODE                  0\n",
      "PRIORITY_COMP              0\n",
      "PRODUCT_CODE               0\n",
      "MATERIAL_CODE              0\n",
      "BATCH_NUMBER               0\n",
      "LATHE_SETUP                0\n",
      "BASE_RADIUS                0\n",
      "POWER                      0\n",
      "CYLINDER             1183827\n",
      "POWER_AXIS           1183827\n",
      "DIAMETER                   0\n",
      "CENTER_THK                 0\n",
      "SCHEDULED_DATE             0\n",
      "LAUNCH_DATE                0\n",
      "REJECTS_QTY                0\n",
      "DELIVERY_DATE              0\n",
      "Adicion               892224\n",
      "ItemCode                 135\n",
      "ItemName                   0\n",
      "LinProd                    0\n",
      "CodFam                     0\n",
      "CodSubFam                  0\n",
      "PRIMARY_KEY                0\n",
      "category_material          0\n",
      "month                      0\n",
      "category_fam               0\n",
      "category_subfam            0\n",
      "dtype: int64\n"
     ]
    }
   ],
   "source": [
    "null_counts = jobOrder_A.isnull().sum()\n",
    "print(null_counts)"
   ]
  },
  {
   "cell_type": "code",
   "execution_count": 534,
   "metadata": {},
   "outputs": [
    {
     "data": {
      "text/plain": [
       "(2928071, 30)"
      ]
     },
     "execution_count": 534,
     "metadata": {},
     "output_type": "execute_result"
    }
   ],
   "source": [
    "mask = jobOrder_cluster['CYLINDER'].notnull() & jobOrder_cluster['POWER_AXIS'].notnull()\n",
    "\n",
    "jobOrder_B = jobOrder_cluster[mask]"
   ]
  },
  {
   "cell_type": "code",
   "execution_count": 535,
   "metadata": {},
   "outputs": [
    {
     "name": "stdout",
     "output_type": "stream",
     "text": [
      "CONF_CODE                  0\n",
      "ORDER_ROW                  0\n",
      "JO_PROG                    0\n",
      "CUST_CODE                  0\n",
      "PRIORITY_COMP              0\n",
      "PRODUCT_CODE               0\n",
      "MATERIAL_CODE              0\n",
      "BATCH_NUMBER               0\n",
      "LATHE_SETUP                0\n",
      "BASE_RADIUS                0\n",
      "POWER                      0\n",
      "CYLINDER                   0\n",
      "POWER_AXIS                 0\n",
      "DIAMETER                   0\n",
      "CENTER_THK                 0\n",
      "SCHEDULED_DATE             0\n",
      "LAUNCH_DATE                0\n",
      "REJECTS_QTY                0\n",
      "DELIVERY_DATE              0\n",
      "Adicion              2274137\n",
      "ItemCode                 140\n",
      "ItemName                   0\n",
      "LinProd                    0\n",
      "CodFam                     0\n",
      "CodSubFam                  0\n",
      "PRIMARY_KEY                0\n",
      "category_material          0\n",
      "month                      0\n",
      "category_fam               0\n",
      "category_subfam            0\n",
      "dtype: int64\n"
     ]
    }
   ],
   "source": [
    "null_counts = jobOrder_B.isnull().sum()\n",
    "print(null_counts)"
   ]
  },
  {
   "cell_type": "code",
   "execution_count": 536,
   "metadata": {},
   "outputs": [
    {
     "data": {
      "text/plain": [
       "True"
      ]
     },
     "execution_count": 536,
     "metadata": {},
     "output_type": "execute_result"
    }
   ],
   "source": [
    "jobOrder_A.shape[0] + jobOrder_B.shape[0] == jobOrder_cluster.shape[0]"
   ]
  },
  {
   "cell_type": "code",
   "execution_count": 537,
   "metadata": {},
   "outputs": [],
   "source": [
    "warnings.filterwarnings(\"ignore\")\n",
    "not_relevant = [\"CONF_CODE\", \"CUST_CODE\", \"SCHEDULED_DATE\", \"DELIVERY_DATE\", \"ORDER_ROW\", \"JO_PROG\", \"PRODUCT_CODE\",\n",
    "                \"BATCH_NUMBER\", \"LATHE_SETUP\", \"REJECTS_QTY\", \"PRIORITY_COMP\", \"Adicion\", \"ItemCode\", \"ItemName\", \"LinProd\"]\n",
    "jobOrder_A.drop(columns=not_relevant, inplace=True)\n",
    "jobOrder_B.drop(columns=not_relevant, inplace=True)\n",
    "warnings.filterwarnings(\"default\")"
   ]
  },
  {
   "cell_type": "code",
   "execution_count": 538,
   "metadata": {},
   "outputs": [
    {
     "data": {
      "text/plain": [
       "1.0    9615592\n",
       "2.0     747395\n",
       "3.0     245373\n",
       "5.0     104960\n",
       "4.0      50113\n",
       "Name: category_fam, dtype: int64"
      ]
     },
     "execution_count": 538,
     "metadata": {},
     "output_type": "execute_result"
    }
   ],
   "source": [
    "jobOrder_new[\"category_fam\"].value_counts()"
   ]
  },
  {
   "cell_type": "code",
   "execution_count": 539,
   "metadata": {},
   "outputs": [
    {
     "data": {
      "text/plain": [
       "1.0    1126665\n",
       "2.0      26193\n",
       "5.0      16952\n",
       "3.0      13882\n",
       "4.0        135\n",
       "Name: category_fam, dtype: int64"
      ]
     },
     "execution_count": 539,
     "metadata": {},
     "output_type": "execute_result"
    }
   ],
   "source": [
    "jobOrder_A[\"category_fam\"].value_counts()"
   ]
  },
  {
   "cell_type": "code",
   "execution_count": 540,
   "metadata": {},
   "outputs": [
    {
     "data": {
      "text/plain": [
       "1.0    2704665\n",
       "2.0     102080\n",
       "5.0      87521\n",
       "3.0      33665\n",
       "4.0        140\n",
       "Name: category_fam, dtype: int64"
      ]
     },
     "execution_count": 540,
     "metadata": {},
     "output_type": "execute_result"
    }
   ],
   "source": [
    "jobOrder_B[\"category_fam\"].value_counts()"
   ]
  },
  {
   "cell_type": "code",
   "execution_count": 541,
   "metadata": {},
   "outputs": [
    {
     "data": {
      "text/plain": [
       "1.0    5454545\n",
       "2.0    2738593\n",
       "4.0    1304420\n",
       "3.0    1215762\n",
       "5.0      50113\n",
       "Name: category_subfam, dtype: int64"
      ]
     },
     "execution_count": 541,
     "metadata": {},
     "output_type": "execute_result"
    }
   ],
   "source": [
    "jobOrder_new[\"category_subfam\"].value_counts()"
   ]
  },
  {
   "cell_type": "code",
   "execution_count": 542,
   "metadata": {},
   "outputs": [
    {
     "data": {
      "text/plain": [
       "4.0    737604\n",
       "3.0    446088\n",
       "5.0       135\n",
       "Name: category_subfam, dtype: int64"
      ]
     },
     "execution_count": 542,
     "metadata": {},
     "output_type": "execute_result"
    }
   ],
   "source": [
    "jobOrder_A[\"category_subfam\"].value_counts()"
   ]
  },
  {
   "cell_type": "code",
   "execution_count": 543,
   "metadata": {},
   "outputs": [
    {
     "data": {
      "text/plain": [
       "1.0    1795973\n",
       "2.0    1131958\n",
       "5.0        140\n",
       "Name: category_subfam, dtype: int64"
      ]
     },
     "execution_count": 543,
     "metadata": {},
     "output_type": "execute_result"
    }
   ],
   "source": [
    "jobOrder_B[\"category_subfam\"].value_counts()"
   ]
  },
  {
   "cell_type": "code",
   "execution_count": 544,
   "metadata": {},
   "outputs": [],
   "source": [
    "# Organising columns\n",
    "\n",
    "column_to_move = 'PRIMARY_KEY'\n",
    "\n",
    "new_order = [column_to_move] + [col for col in jobOrder_A.columns if col != column_to_move]\n",
    "jobOrder_A = jobOrder_A.reindex(columns=new_order)\n",
    "\n",
    "new_order = [column_to_move] + [col for col in jobOrder_B.columns if col != column_to_move]\n",
    "jobOrder_B = jobOrder_B.reindex(columns=new_order)"
   ]
  },
  {
   "cell_type": "code",
   "execution_count": 545,
   "metadata": {},
   "outputs": [],
   "source": [
    "# Data to cluster\n",
    "jobOrder_new.to_csv(\"jobOrder_new.csv\", index=False)\n",
    "jobOrder_B.to_csv(\"jobOrder_B.csv\", index=False)\n",
    "jobOrder_A.to_csv(\"jobOrder_A.csv\", index=False)"
   ]
  }
 ],
 "metadata": {
  "kernelspec": {
   "display_name": "base",
   "language": "python",
   "name": "python3"
  },
  "language_info": {
   "codemirror_mode": {
    "name": "ipython",
    "version": 3
   },
   "file_extension": ".py",
   "mimetype": "text/x-python",
   "name": "python",
   "nbconvert_exporter": "python",
   "pygments_lexer": "ipython3",
   "version": "3.9.13"
  },
  "orig_nbformat": 4
 },
 "nbformat": 4,
 "nbformat_minor": 2
}
