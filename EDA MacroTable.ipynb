{
 "cells": [
  {
   "cell_type": "code",
   "execution_count": 1,
   "id": "6b579e74",
   "metadata": {},
   "outputs": [],
   "source": [
    "import pandas as pd\n",
    "import datetime"
   ]
  },
  {
   "cell_type": "markdown",
   "id": "2a6d3fb6",
   "metadata": {},
   "source": [
    "#### Read Files to Clean and Merge"
   ]
  },
  {
   "cell_type": "code",
   "execution_count": 2,
   "id": "1253551b",
   "metadata": {},
   "outputs": [
    {
     "name": "stderr",
     "output_type": "stream",
     "text": [
      "C:\\Users\\gltel\\AppData\\Local\\Temp\\ipykernel_7408\\3988613148.py:1: DtypeWarning: Columns (2,25) have mixed types. Specify dtype option on import or set low_memory=False.\n",
      "  jobOrder = pd.read_csv('jobOrder.csv',\n"
     ]
    },
    {
     "data": {
      "text/html": [
       "<div>\n",
       "<style scoped>\n",
       "    .dataframe tbody tr th:only-of-type {\n",
       "        vertical-align: middle;\n",
       "    }\n",
       "\n",
       "    .dataframe tbody tr th {\n",
       "        vertical-align: top;\n",
       "    }\n",
       "\n",
       "    .dataframe thead th {\n",
       "        text-align: right;\n",
       "    }\n",
       "</style>\n",
       "<table border=\"1\" class=\"dataframe\">\n",
       "  <thead>\n",
       "    <tr style=\"text-align: right;\">\n",
       "      <th></th>\n",
       "      <th>CONF_CODE</th>\n",
       "      <th>ORDER_ROW</th>\n",
       "      <th>JO_PROG</th>\n",
       "      <th>STATE</th>\n",
       "      <th>CUST_CODE</th>\n",
       "      <th>PRESCRIPTION</th>\n",
       "      <th>PRIORITY_COMP</th>\n",
       "      <th>PRODUCT_CODE</th>\n",
       "      <th>MATERIAL_CODE</th>\n",
       "      <th>BATCH_NUMBER</th>\n",
       "      <th>...</th>\n",
       "      <th>MEAS_STEEP_RADIUS</th>\n",
       "      <th>TRAY_CODE</th>\n",
       "      <th>STERIL_CODE</th>\n",
       "      <th>STERIL_BATCH</th>\n",
       "      <th>LABEL_PRINTED</th>\n",
       "      <th>SCHEDULED_DATE</th>\n",
       "      <th>SCHEDULED_QTY</th>\n",
       "      <th>LAUNCH_DATE</th>\n",
       "      <th>REJECTS_QTY</th>\n",
       "      <th>DELIVERY_DATE</th>\n",
       "    </tr>\n",
       "  </thead>\n",
       "  <tbody>\n",
       "    <tr>\n",
       "      <th>0</th>\n",
       "      <td>AA0001</td>\n",
       "      <td>1</td>\n",
       "      <td>0</td>\n",
       "      <td>6.0</td>\n",
       "      <td>CFR63516</td>\n",
       "      <td>2.0</td>\n",
       "      <td>253.0</td>\n",
       "      <td>U3_ACTIVO</td>\n",
       "      <td>2001.0</td>\n",
       "      <td>13833</td>\n",
       "      <td>...</td>\n",
       "      <td>NaN</td>\n",
       "      <td>607.0</td>\n",
       "      <td>1.0</td>\n",
       "      <td>8492.0</td>\n",
       "      <td>1.0</td>\n",
       "      <td>2012-03-05 08:37:00</td>\n",
       "      <td>1.0</td>\n",
       "      <td>2012-03-05 08:37:00</td>\n",
       "      <td>0.0</td>\n",
       "      <td>NaT</td>\n",
       "    </tr>\n",
       "    <tr>\n",
       "      <th>1</th>\n",
       "      <td>AA0001</td>\n",
       "      <td>2</td>\n",
       "      <td>0</td>\n",
       "      <td>6.0</td>\n",
       "      <td>CFR63516</td>\n",
       "      <td>2.0</td>\n",
       "      <td>253.0</td>\n",
       "      <td>U3_ACTIVO</td>\n",
       "      <td>2001.0</td>\n",
       "      <td>13833</td>\n",
       "      <td>...</td>\n",
       "      <td>NaN</td>\n",
       "      <td>607.0</td>\n",
       "      <td>1.0</td>\n",
       "      <td>8492.0</td>\n",
       "      <td>1.0</td>\n",
       "      <td>2012-03-05 08:37:00</td>\n",
       "      <td>1.0</td>\n",
       "      <td>2012-03-05 08:37:00</td>\n",
       "      <td>0.0</td>\n",
       "      <td>NaT</td>\n",
       "    </tr>\n",
       "    <tr>\n",
       "      <th>2</th>\n",
       "      <td>AA0001</td>\n",
       "      <td>3</td>\n",
       "      <td>0</td>\n",
       "      <td>6.0</td>\n",
       "      <td>CFR63516</td>\n",
       "      <td>2.0</td>\n",
       "      <td>0.0</td>\n",
       "      <td>U3_ACTIVO</td>\n",
       "      <td>2001.0</td>\n",
       "      <td>13858</td>\n",
       "      <td>...</td>\n",
       "      <td>NaN</td>\n",
       "      <td>617.0</td>\n",
       "      <td>2.0</td>\n",
       "      <td>5654.0</td>\n",
       "      <td>1.0</td>\n",
       "      <td>2012-03-05 08:37:00</td>\n",
       "      <td>1.0</td>\n",
       "      <td>2012-03-13 01:35:00</td>\n",
       "      <td>3.0</td>\n",
       "      <td>2012-03-14 20:22:00</td>\n",
       "    </tr>\n",
       "    <tr>\n",
       "      <th>3</th>\n",
       "      <td>AA0001</td>\n",
       "      <td>4</td>\n",
       "      <td>0</td>\n",
       "      <td>6.0</td>\n",
       "      <td>CFR63516</td>\n",
       "      <td>2.0</td>\n",
       "      <td>0.0</td>\n",
       "      <td>U3_ACTIVO</td>\n",
       "      <td>2001.0</td>\n",
       "      <td>13858</td>\n",
       "      <td>...</td>\n",
       "      <td>NaN</td>\n",
       "      <td>623.0</td>\n",
       "      <td>2.0</td>\n",
       "      <td>5630.0</td>\n",
       "      <td>1.0</td>\n",
       "      <td>2012-03-05 08:37:00</td>\n",
       "      <td>1.0</td>\n",
       "      <td>2012-03-07 11:08:00</td>\n",
       "      <td>1.0</td>\n",
       "      <td>2012-03-09 13:30:00</td>\n",
       "    </tr>\n",
       "    <tr>\n",
       "      <th>4</th>\n",
       "      <td>AA0001</td>\n",
       "      <td>5</td>\n",
       "      <td>0</td>\n",
       "      <td>6.0</td>\n",
       "      <td>CFR63516</td>\n",
       "      <td>2.0</td>\n",
       "      <td>253.0</td>\n",
       "      <td>U3_ACTIVO</td>\n",
       "      <td>2001.0</td>\n",
       "      <td>13833</td>\n",
       "      <td>...</td>\n",
       "      <td>NaN</td>\n",
       "      <td>607.0</td>\n",
       "      <td>1.0</td>\n",
       "      <td>8492.0</td>\n",
       "      <td>1.0</td>\n",
       "      <td>2012-03-05 08:37:00</td>\n",
       "      <td>1.0</td>\n",
       "      <td>2012-03-05 08:37:00</td>\n",
       "      <td>0.0</td>\n",
       "      <td>NaT</td>\n",
       "    </tr>\n",
       "  </tbody>\n",
       "</table>\n",
       "<p>5 rows × 32 columns</p>\n",
       "</div>"
      ],
      "text/plain": [
       "  CONF_CODE ORDER_ROW JO_PROG  STATE CUST_CODE  PRESCRIPTION  PRIORITY_COMP  \\\n",
       "0    AA0001         1       0    6.0  CFR63516           2.0          253.0   \n",
       "1    AA0001         2       0    6.0  CFR63516           2.0          253.0   \n",
       "2    AA0001         3       0    6.0  CFR63516           2.0            0.0   \n",
       "3    AA0001         4       0    6.0  CFR63516           2.0            0.0   \n",
       "4    AA0001         5       0    6.0  CFR63516           2.0          253.0   \n",
       "\n",
       "  PRODUCT_CODE  MATERIAL_CODE BATCH_NUMBER  ... MEAS_STEEP_RADIUS  TRAY_CODE  \\\n",
       "0    U3_ACTIVO         2001.0        13833  ...               NaN      607.0   \n",
       "1    U3_ACTIVO         2001.0        13833  ...               NaN      607.0   \n",
       "2    U3_ACTIVO         2001.0        13858  ...               NaN      617.0   \n",
       "3    U3_ACTIVO         2001.0        13858  ...               NaN      623.0   \n",
       "4    U3_ACTIVO         2001.0        13833  ...               NaN      607.0   \n",
       "\n",
       "   STERIL_CODE  STERIL_BATCH  LABEL_PRINTED      SCHEDULED_DATE  \\\n",
       "0          1.0        8492.0            1.0 2012-03-05 08:37:00   \n",
       "1          1.0        8492.0            1.0 2012-03-05 08:37:00   \n",
       "2          2.0        5654.0            1.0 2012-03-05 08:37:00   \n",
       "3          2.0        5630.0            1.0 2012-03-05 08:37:00   \n",
       "4          1.0        8492.0            1.0 2012-03-05 08:37:00   \n",
       "\n",
       "   SCHEDULED_QTY         LAUNCH_DATE  REJECTS_QTY       DELIVERY_DATE  \n",
       "0            1.0 2012-03-05 08:37:00          0.0                 NaT  \n",
       "1            1.0 2012-03-05 08:37:00          0.0                 NaT  \n",
       "2            1.0 2012-03-13 01:35:00          3.0 2012-03-14 20:22:00  \n",
       "3            1.0 2012-03-07 11:08:00          1.0 2012-03-09 13:30:00  \n",
       "4            1.0 2012-03-05 08:37:00          0.0                 NaT  \n",
       "\n",
       "[5 rows x 32 columns]"
      ]
     },
     "execution_count": 2,
     "metadata": {},
     "output_type": "execute_result"
    }
   ],
   "source": [
    "jobOrder = pd.read_csv('jobOrder.csv', \n",
    "                        sep='|', \n",
    "                        encoding='cp1252',\n",
    "                        decimal=',', \n",
    "                        infer_datetime_format=True, \n",
    "                        parse_dates=[27,29,31])\n",
    "jobOrder.head()"
   ]
  },
  {
   "cell_type": "code",
   "execution_count": 3,
   "id": "6e96ed53",
   "metadata": {},
   "outputs": [
    {
     "data": {
      "text/html": [
       "<div>\n",
       "<style scoped>\n",
       "    .dataframe tbody tr th:only-of-type {\n",
       "        vertical-align: middle;\n",
       "    }\n",
       "\n",
       "    .dataframe tbody tr th {\n",
       "        vertical-align: top;\n",
       "    }\n",
       "\n",
       "    .dataframe thead th {\n",
       "        text-align: right;\n",
       "    }\n",
       "</style>\n",
       "<table border=\"1\" class=\"dataframe\">\n",
       "  <thead>\n",
       "    <tr style=\"text-align: right;\">\n",
       "      <th></th>\n",
       "      <th>CONF_CODE</th>\n",
       "      <th>ORDER_ROW</th>\n",
       "      <th>TEC_INST</th>\n",
       "    </tr>\n",
       "  </thead>\n",
       "  <tbody>\n",
       "    <tr>\n",
       "      <th>0</th>\n",
       "      <td>AA0001</td>\n",
       "      <td>1</td>\n",
       "      <td>510482,3,U3E</td>\n",
       "    </tr>\n",
       "    <tr>\n",
       "      <th>1</th>\n",
       "      <td>AA0001</td>\n",
       "      <td>2</td>\n",
       "      <td>510482,3,U3E</td>\n",
       "    </tr>\n",
       "    <tr>\n",
       "      <th>2</th>\n",
       "      <td>AA0001</td>\n",
       "      <td>3</td>\n",
       "      <td>510482,3,U3E</td>\n",
       "    </tr>\n",
       "    <tr>\n",
       "      <th>3</th>\n",
       "      <td>AA0001</td>\n",
       "      <td>4</td>\n",
       "      <td>510482,9,U3E</td>\n",
       "    </tr>\n",
       "    <tr>\n",
       "      <th>4</th>\n",
       "      <td>AA0001</td>\n",
       "      <td>5</td>\n",
       "      <td>510482,9,U3E</td>\n",
       "    </tr>\n",
       "  </tbody>\n",
       "</table>\n",
       "</div>"
      ],
      "text/plain": [
       "  CONF_CODE ORDER_ROW      TEC_INST\n",
       "0    AA0001         1  510482,3,U3E\n",
       "1    AA0001         2  510482,3,U3E\n",
       "2    AA0001         3  510482,3,U3E\n",
       "3    AA0001         4  510482,9,U3E\n",
       "4    AA0001         5  510482,9,U3E"
      ]
     },
     "execution_count": 3,
     "metadata": {},
     "output_type": "execute_result"
    }
   ],
   "source": [
    "OrderRow = pd.read_csv('OrderRow.csv',\n",
    "                       sep='|',\n",
    "                       encoding='cp1252')\n",
    "OrderRow.head()"
   ]
  },
  {
   "cell_type": "code",
   "execution_count": 4,
   "id": "881a16b3",
   "metadata": {},
   "outputs": [
    {
     "data": {
      "text/html": [
       "<div>\n",
       "<style scoped>\n",
       "    .dataframe tbody tr th:only-of-type {\n",
       "        vertical-align: middle;\n",
       "    }\n",
       "\n",
       "    .dataframe tbody tr th {\n",
       "        vertical-align: top;\n",
       "    }\n",
       "\n",
       "    .dataframe thead th {\n",
       "        text-align: right;\n",
       "    }\n",
       "</style>\n",
       "<table border=\"1\" class=\"dataframe\">\n",
       "  <thead>\n",
       "    <tr style=\"text-align: right;\">\n",
       "      <th></th>\n",
       "      <th>ItemCode</th>\n",
       "      <th>ItemName</th>\n",
       "      <th>LinProd</th>\n",
       "      <th>CodFam</th>\n",
       "      <th>CodSubFam</th>\n",
       "      <th>Desing</th>\n",
       "      <th>FrozenFor</th>\n",
       "    </tr>\n",
       "  </thead>\n",
       "  <tbody>\n",
       "    <tr>\n",
       "      <th>0</th>\n",
       "      <td>001</td>\n",
       "      <td>Varios de compras</td>\n",
       "      <td>NaN</td>\n",
       "      <td>NaN</td>\n",
       "      <td>NaN</td>\n",
       "      <td>NoDesing</td>\n",
       "      <td>N</td>\n",
       "    </tr>\n",
       "    <tr>\n",
       "      <th>1</th>\n",
       "      <td>002</td>\n",
       "      <td>SEVEN 12pk T/MF x20</td>\n",
       "      <td>1023.0</td>\n",
       "      <td>10.0</td>\n",
       "      <td>8.0</td>\n",
       "      <td>NoDesing</td>\n",
       "      <td>N</td>\n",
       "    </tr>\n",
       "    <tr>\n",
       "      <th>2</th>\n",
       "      <td>003</td>\n",
       "      <td>Voucher Mylo&amp;Edof 3pk x300</td>\n",
       "      <td>1022.0</td>\n",
       "      <td>10.0</td>\n",
       "      <td>8.0</td>\n",
       "      <td>NoDesing</td>\n",
       "      <td>N</td>\n",
       "    </tr>\n",
       "    <tr>\n",
       "      <th>3</th>\n",
       "      <td>004</td>\n",
       "      <td>Checkbook 50 EyeGo Bio Fresh 6pk A T &amp; MF</td>\n",
       "      <td>1023.0</td>\n",
       "      <td>10.0</td>\n",
       "      <td>8.0</td>\n",
       "      <td>NoDesing</td>\n",
       "      <td>N</td>\n",
       "    </tr>\n",
       "    <tr>\n",
       "      <th>4</th>\n",
       "      <td>005</td>\n",
       "      <td>Checkbook 10 EyeGo Bio Fresh 6pk A T &amp; MF</td>\n",
       "      <td>1023.0</td>\n",
       "      <td>10.0</td>\n",
       "      <td>8.0</td>\n",
       "      <td>NoDesing</td>\n",
       "      <td>N</td>\n",
       "    </tr>\n",
       "  </tbody>\n",
       "</table>\n",
       "</div>"
      ],
      "text/plain": [
       "  ItemCode                                   ItemName  LinProd  CodFam  \\\n",
       "0      001                          Varios de compras      NaN     NaN   \n",
       "1      002                        SEVEN 12pk T/MF x20   1023.0    10.0   \n",
       "2      003                 Voucher Mylo&Edof 3pk x300   1022.0    10.0   \n",
       "3      004  Checkbook 50 EyeGo Bio Fresh 6pk A T & MF   1023.0    10.0   \n",
       "4      005  Checkbook 10 EyeGo Bio Fresh 6pk A T & MF   1023.0    10.0   \n",
       "\n",
       "   CodSubFam    Desing FrozenFor  \n",
       "0        NaN  NoDesing         N  \n",
       "1        8.0  NoDesing         N  \n",
       "2        8.0  NoDesing         N  \n",
       "3        8.0  NoDesing         N  \n",
       "4        8.0  NoDesing         N  "
      ]
     },
     "execution_count": 4,
     "metadata": {},
     "output_type": "execute_result"
    }
   ],
   "source": [
    "Articulos = pd.read_csv('Articulos.csv',\n",
    "                        sep = '|',\n",
    "                        encoding = 'latin-1')\n",
    "Articulos.head()"
   ]
  },
  {
   "cell_type": "code",
   "execution_count": 5,
   "id": "d0534592",
   "metadata": {},
   "outputs": [
    {
     "data": {
      "text/html": [
       "<div>\n",
       "<style scoped>\n",
       "    .dataframe tbody tr th:only-of-type {\n",
       "        vertical-align: middle;\n",
       "    }\n",
       "\n",
       "    .dataframe tbody tr th {\n",
       "        vertical-align: top;\n",
       "    }\n",
       "\n",
       "    .dataframe thead th {\n",
       "        text-align: right;\n",
       "    }\n",
       "</style>\n",
       "<table border=\"1\" class=\"dataframe\">\n",
       "  <thead>\n",
       "    <tr style=\"text-align: right;\">\n",
       "      <th></th>\n",
       "      <th>Code</th>\n",
       "      <th>Name</th>\n",
       "    </tr>\n",
       "  </thead>\n",
       "  <tbody>\n",
       "    <tr>\n",
       "      <th>0</th>\n",
       "      <td>3</td>\n",
       "      <td>3T</td>\n",
       "    </tr>\n",
       "    <tr>\n",
       "      <th>1</th>\n",
       "      <td>7</td>\n",
       "      <td>5T</td>\n",
       "    </tr>\n",
       "    <tr>\n",
       "      <th>2</th>\n",
       "      <td>1009</td>\n",
       "      <td>BLU:GEN</td>\n",
       "    </tr>\n",
       "    <tr>\n",
       "      <th>3</th>\n",
       "      <td>1010</td>\n",
       "      <td>BLU:KIDZ</td>\n",
       "    </tr>\n",
       "    <tr>\n",
       "      <th>4</th>\n",
       "      <td>1011</td>\n",
       "      <td>BLU:SSENTIAL</td>\n",
       "    </tr>\n",
       "  </tbody>\n",
       "</table>\n",
       "</div>"
      ],
      "text/plain": [
       "   Code          Name\n",
       "0     3            3T\n",
       "1     7            5T\n",
       "2  1009       BLU:GEN\n",
       "3  1010      BLU:KIDZ\n",
       "4  1011  BLU:SSENTIAL"
      ]
     },
     "execution_count": 5,
     "metadata": {},
     "output_type": "execute_result"
    }
   ],
   "source": [
    "LineasProd = pd.read_csv('LineasProd.csv',\n",
    "                         sep = '|')\n",
    "LineasProd.head()"
   ]
  },
  {
   "cell_type": "code",
   "execution_count": 6,
   "id": "57ac981c",
   "metadata": {},
   "outputs": [
    {
     "data": {
      "text/html": [
       "<div>\n",
       "<style scoped>\n",
       "    .dataframe tbody tr th:only-of-type {\n",
       "        vertical-align: middle;\n",
       "    }\n",
       "\n",
       "    .dataframe tbody tr th {\n",
       "        vertical-align: top;\n",
       "    }\n",
       "\n",
       "    .dataframe thead th {\n",
       "        text-align: right;\n",
       "    }\n",
       "</style>\n",
       "<table border=\"1\" class=\"dataframe\">\n",
       "  <thead>\n",
       "    <tr style=\"text-align: right;\">\n",
       "      <th></th>\n",
       "      <th>Code</th>\n",
       "      <th>Name</th>\n",
       "    </tr>\n",
       "  </thead>\n",
       "  <tbody>\n",
       "    <tr>\n",
       "      <th>0</th>\n",
       "      <td>3</td>\n",
       "      <td>CONVENCIONAL</td>\n",
       "    </tr>\n",
       "    <tr>\n",
       "      <th>1</th>\n",
       "      <td>4</td>\n",
       "      <td>CREDITOS</td>\n",
       "    </tr>\n",
       "    <tr>\n",
       "      <th>2</th>\n",
       "      <td>9</td>\n",
       "      <td>CURSOS</td>\n",
       "    </tr>\n",
       "    <tr>\n",
       "      <th>3</th>\n",
       "      <td>6</td>\n",
       "      <td>DESCUENTOS</td>\n",
       "    </tr>\n",
       "    <tr>\n",
       "      <th>4</th>\n",
       "      <td>15</td>\n",
       "      <td>DIARIAS</td>\n",
       "    </tr>\n",
       "  </tbody>\n",
       "</table>\n",
       "</div>"
      ],
      "text/plain": [
       "   Code          Name\n",
       "0     3  CONVENCIONAL\n",
       "1     4      CREDITOS\n",
       "2     9        CURSOS\n",
       "3     6    DESCUENTOS\n",
       "4    15       DIARIAS"
      ]
     },
     "execution_count": 6,
     "metadata": {},
     "output_type": "execute_result"
    }
   ],
   "source": [
    "Familias = pd.read_csv('Familias.csv',\n",
    "                       sep = '|')\n",
    "Familias.head()"
   ]
  },
  {
   "cell_type": "code",
   "execution_count": 7,
   "id": "739c40b6",
   "metadata": {},
   "outputs": [
    {
     "data": {
      "text/html": [
       "<div>\n",
       "<style scoped>\n",
       "    .dataframe tbody tr th:only-of-type {\n",
       "        vertical-align: middle;\n",
       "    }\n",
       "\n",
       "    .dataframe tbody tr th {\n",
       "        vertical-align: top;\n",
       "    }\n",
       "\n",
       "    .dataframe thead th {\n",
       "        text-align: right;\n",
       "    }\n",
       "</style>\n",
       "<table border=\"1\" class=\"dataframe\">\n",
       "  <thead>\n",
       "    <tr style=\"text-align: right;\">\n",
       "      <th></th>\n",
       "      <th>Code</th>\n",
       "      <th>Name</th>\n",
       "    </tr>\n",
       "  </thead>\n",
       "  <tbody>\n",
       "    <tr>\n",
       "      <th>0</th>\n",
       "      <td>2</td>\n",
       "      <td>ASPHERIC</td>\n",
       "    </tr>\n",
       "    <tr>\n",
       "      <th>1</th>\n",
       "      <td>9</td>\n",
       "      <td>CREDITOS</td>\n",
       "    </tr>\n",
       "    <tr>\n",
       "      <th>2</th>\n",
       "      <td>15</td>\n",
       "      <td>CURSOS</td>\n",
       "    </tr>\n",
       "    <tr>\n",
       "      <th>3</th>\n",
       "      <td>11</td>\n",
       "      <td>DESCUENTO</td>\n",
       "    </tr>\n",
       "    <tr>\n",
       "      <th>4</th>\n",
       "      <td>7</td>\n",
       "      <td>GAS PERMEABLE</td>\n",
       "    </tr>\n",
       "  </tbody>\n",
       "</table>\n",
       "</div>"
      ],
      "text/plain": [
       "   Code           Name\n",
       "0     2       ASPHERIC\n",
       "1     9       CREDITOS\n",
       "2    15         CURSOS\n",
       "3    11      DESCUENTO\n",
       "4     7  GAS PERMEABLE"
      ]
     },
     "execution_count": 7,
     "metadata": {},
     "output_type": "execute_result"
    }
   ],
   "source": [
    "SubFamilias = pd.read_csv('SubFamilias.csv',\n",
    "                          sep = '|')\n",
    "SubFamilias.head()"
   ]
  },
  {
   "cell_type": "markdown",
   "id": "0b90e49e",
   "metadata": {},
   "source": [
    "#### Remove unnecesary columns\n",
    "Remove columns that are not useful for made to stock problem and that with discussion with the company were determined irrelevant."
   ]
  },
  {
   "cell_type": "code",
   "execution_count": 8,
   "id": "720582fb",
   "metadata": {},
   "outputs": [],
   "source": [
    "\n",
    "jobOrder = jobOrder[['CONF_CODE','ORDER_ROW','JO_PROG',\n",
    "                     'PRODUCT_CODE','MATERIAL_CODE',\n",
    "                     'BASE_RADIUS','POWER','CYLINDER','POWER_AXIS','DIAMETER','CENTER_THK',\n",
    "                     'LAUNCH_DATE']]"
   ]
  },
  {
   "cell_type": "markdown",
   "id": "c3f08cab",
   "metadata": {},
   "source": [
    "#### Check behaviour of parameters and job order quantity over time"
   ]
  },
  {
   "cell_type": "code",
   "execution_count": 9,
   "id": "516050e8",
   "metadata": {},
   "outputs": [],
   "source": [
    "import matplotlib.pyplot as plt"
   ]
  },
  {
   "cell_type": "code",
   "execution_count": 10,
   "id": "ce19ff97",
   "metadata": {},
   "outputs": [
    {
     "data": {
      "text/plain": [
       "[<matplotlib.lines.Line2D at 0x257de62b4f0>]"
      ]
     },
     "execution_count": 10,
     "metadata": {},
     "output_type": "execute_result"
    },
    {
     "data": {
      "image/png": "[encoded data removed]",
      "text/plain": [
       "<Figure size 432x288 with 1 Axes>"
      ]
     },
     "metadata": {
      "needs_background": "light"
     },
     "output_type": "display_data"
    }
   ],
   "source": [
    "monthly_data = jobOrder[['LAUNCH_DATE', 'DIAMETER']].resample('M', on='LAUNCH_DATE').mean()\n",
    "plt.plot(monthly_data)"
   ]
  },
  {
   "cell_type": "code",
   "execution_count": 11,
   "id": "25fd5bb4",
   "metadata": {},
   "outputs": [
    {
     "data": {
      "text/plain": [
       "[<matplotlib.lines.Line2D at 0x2585cccad60>]"
      ]
     },
     "execution_count": 11,
     "metadata": {},
     "output_type": "execute_result"
    },
    {
     "data": {
      "image/png": "[encoded data removed]",
      "text/plain": [
       "<Figure size 432x288 with 1 Axes>"
      ]
     },
     "metadata": {
      "needs_background": "light"
     },
     "output_type": "display_data"
    }
   ],
   "source": [
    "monthly_data = jobOrder[['LAUNCH_DATE', 'BASE_RADIUS']].resample('M', on='LAUNCH_DATE').mean()\n",
    "plt.plot(monthly_data)"
   ]
  },
  {
   "cell_type": "code",
   "execution_count": 12,
   "id": "853ae60e",
   "metadata": {},
   "outputs": [
    {
     "data": {
      "text/plain": [
       "[<matplotlib.lines.Line2D at 0x2585cd1f580>]"
      ]
     },
     "execution_count": 12,
     "metadata": {},
     "output_type": "execute_result"
    },
    {
     "data": {
      "image/png": "[encoded data removed]",
      "text/plain": [
       "<Figure size 432x288 with 1 Axes>"
      ]
     },
     "metadata": {
      "needs_background": "light"
     },
     "output_type": "display_data"
    }
   ],
   "source": [
    "monthly_data = jobOrder[['LAUNCH_DATE', 'CENTER_THK']].resample('M', on='LAUNCH_DATE').mean()\n",
    "plt.plot(monthly_data)"
   ]
  },
  {
   "cell_type": "code",
   "execution_count": 13,
   "id": "56050c95",
   "metadata": {},
   "outputs": [
    {
     "data": {
      "text/plain": [
       "[<matplotlib.lines.Line2D at 0x2585cd81310>]"
      ]
     },
     "execution_count": 13,
     "metadata": {},
     "output_type": "execute_result"
    },
    {
     "data": {
      "image/png": "[encoded data removed]",
      "text/plain": [
       "<Figure size 432x288 with 1 Axes>"
      ]
     },
     "metadata": {
      "needs_background": "light"
     },
     "output_type": "display_data"
    }
   ],
   "source": [
    "monthly_data = jobOrder[['LAUNCH_DATE', 'CYLINDER']].resample('M', on='LAUNCH_DATE').mean()\n",
    "plt.plot(monthly_data)"
   ]
  },
  {
   "cell_type": "code",
   "execution_count": 14,
   "id": "10231342",
   "metadata": {
    "scrolled": true
   },
   "outputs": [
    {
     "data": {
      "text/plain": [
       "[<matplotlib.lines.Line2D at 0x2585ce02d90>]"
      ]
     },
     "execution_count": 14,
     "metadata": {},
     "output_type": "execute_result"
    },
    {
     "data": {
      "image/png": "[encoded data removed]",
      "text/plain": [
       "<Figure size 432x288 with 1 Axes>"
      ]
     },
     "metadata": {
      "needs_background": "light"
     },
     "output_type": "display_data"
    }
   ],
   "source": [
    "monthly_data = jobOrder[['LAUNCH_DATE', 'POWER_AXIS']].resample('M', on='LAUNCH_DATE').mean()\n",
    "plt.plot(monthly_data)"
   ]
  },
  {
   "cell_type": "markdown",
   "id": "2ad76e6f",
   "metadata": {},
   "source": [
    "We decide to only use last 3 years of data, the parameters are not stationary in the mean for data older than 3 years, which means that considering that data for predicting which parameter combinations will be ordered in the future has higher chances of leading to error."
   ]
  },
  {
   "cell_type": "code",
   "execution_count": 15,
   "id": "d4fa349f",
   "metadata": {},
   "outputs": [
    {
     "data": {
      "text/plain": [
       "[<matplotlib.lines.Line2D at 0x2585ce42490>,\n",
       " <matplotlib.lines.Line2D at 0x2585ce714f0>]"
      ]
     },
     "execution_count": 15,
     "metadata": {},
     "output_type": "execute_result"
    },
    {
     "data": {
      "image/png": "[encoded data removed]",
      "text/plain": [
       "<Figure size 432x288 with 1 Axes>"
      ]
     },
     "metadata": {
      "needs_background": "light"
     },
     "output_type": "display_data"
    }
   ],
   "source": [
    "monthly_data = jobOrder[['LAUNCH_DATE', 'PRODUCT_CODE']].resample('M', on='LAUNCH_DATE').count()\n",
    "plt.plot(monthly_data)"
   ]
  },
  {
   "cell_type": "markdown",
   "id": "6743559b",
   "metadata": {},
   "source": [
    "Overall demand has been steadily increasing for the past 11 years, we will assume this trend to continue for forecasting the future total demand of products."
   ]
  },
  {
   "cell_type": "code",
   "execution_count": 16,
   "id": "31ae1fdf",
   "metadata": {},
   "outputs": [],
   "source": [
    "jobOrder = jobOrder[jobOrder['LAUNCH_DATE'] > datetime.datetime(2019, 12, 31)]"
   ]
  },
  {
   "cell_type": "markdown",
   "id": "0b0a5502",
   "metadata": {},
   "source": [
    "#### Merge jobOrder with other files to get Item Name, Line, Family and Subfamily\n",
    "Merge to obtain the hierarchy information of each product, this is an important feature for clustering combinations in the following steps."
   ]
  },
  {
   "cell_type": "code",
   "execution_count": 17,
   "id": "c3c940f7",
   "metadata": {},
   "outputs": [],
   "source": [
    "# Extract ItemCode from TEC_INST so the table can be joined with Articulos.\n",
    "OrderRow['ItemCode'] = OrderRow['TEC_INST'].str.split(',').str[2]"
   ]
  },
  {
   "cell_type": "code",
   "execution_count": 18,
   "id": "be2d0013",
   "metadata": {},
   "outputs": [],
   "source": [
    "# Remove NAs in ItemCode to avoid a join when the field is NA in both tables\n",
    "OrderRow = OrderRow[OrderRow['ItemCode'].notna()]"
   ]
  },
  {
   "cell_type": "code",
   "execution_count": 19,
   "id": "e843aa0b",
   "metadata": {},
   "outputs": [],
   "source": [
    "# Join table with Articulos then drop unwanted features.\n",
    "OrderRow = pd.merge(OrderRow, Articulos, on=['ItemCode'], how='left').drop(['TEC_INST','Desing','FrozenFor'],axis=1)"
   ]
  },
  {
   "cell_type": "code",
   "execution_count": 20,
   "id": "449e2e1c",
   "metadata": {},
   "outputs": [],
   "source": [
    "# Join resulting table with jobOrder to add ItemName, LinProd, CodFam, CodSubFam\n",
    "jobOrder = pd.merge(jobOrder, \n",
    "                    OrderRow,\n",
    "                    on=['CONF_CODE','ORDER_ROW'],\n",
    "                    how='left')"
   ]
  },
  {
   "cell_type": "markdown",
   "id": "6aa557e6",
   "metadata": {},
   "source": [
    "#### Check products customizable to all parameters and without Cylinder and Power Axis\n",
    "Classify products into those that can be customized with all parameters, and those that cannot be customized by Cylinder and Power Axis, then remove, if any, products that cannot be clearly classified."
   ]
  },
  {
   "cell_type": "code",
   "execution_count": 21,
   "id": "470ed2f5",
   "metadata": {},
   "outputs": [
    {
     "name": "stderr",
     "output_type": "stream",
     "text": [
      "C:\\Users\\gltel\\AppData\\Local\\Temp\\ipykernel_7408\\4006105692.py:2: FutureWarning: Indexing with multiple keys (implicitly converted to a tuple of keys) will be deprecated, use a list instead.\n",
      "  na_counts = jobOrder.groupby(['PRODUCT_CODE'])['CYLINDER', 'POWER_AXIS'].apply(lambda x: x.isna().sum())\n",
      "C:\\Users\\gltel\\AppData\\Local\\Temp\\ipykernel_7408\\4006105692.py:3: FutureWarning: Indexing with multiple keys (implicitly converted to a tuple of keys) will be deprecated, use a list instead.\n",
      "  counts = jobOrder.groupby(['PRODUCT_CODE'])['CYLINDER', 'POWER_AXIS'].count()\n"
     ]
    }
   ],
   "source": [
    "# Check if NAs and total product counts match to conclude that NAs mean the product is not customizable.\n",
    "na_counts = jobOrder.groupby(['PRODUCT_CODE'])['CYLINDER', 'POWER_AXIS'].apply(lambda x: x.isna().sum())\n",
    "counts = jobOrder.groupby(['PRODUCT_CODE'])['CYLINDER', 'POWER_AXIS'].count()\n",
    "na_counts = pd.merge(na_counts, counts, left_index=True, right_index=True, how='outer')"
   ]
  },
  {
   "cell_type": "code",
   "execution_count": 22,
   "id": "5f53ce98",
   "metadata": {},
   "outputs": [
    {
     "data": {
      "text/html": [
       "<div>\n",
       "<style scoped>\n",
       "    .dataframe tbody tr th:only-of-type {\n",
       "        vertical-align: middle;\n",
       "    }\n",
       "\n",
       "    .dataframe tbody tr th {\n",
       "        vertical-align: top;\n",
       "    }\n",
       "\n",
       "    .dataframe thead th {\n",
       "        text-align: right;\n",
       "    }\n",
       "</style>\n",
       "<table border=\"1\" class=\"dataframe\">\n",
       "  <thead>\n",
       "    <tr style=\"text-align: right;\">\n",
       "      <th></th>\n",
       "      <th>CYLINDER_x</th>\n",
       "      <th>POWER_AXIS_x</th>\n",
       "      <th>CYLINDER_y</th>\n",
       "      <th>POWER_AXIS_y</th>\n",
       "    </tr>\n",
       "    <tr>\n",
       "      <th>PRODUCT_CODE</th>\n",
       "      <th></th>\n",
       "      <th></th>\n",
       "      <th></th>\n",
       "      <th></th>\n",
       "    </tr>\n",
       "  </thead>\n",
       "  <tbody>\n",
       "    <tr>\n",
       "      <th>5T_ACTIVO</th>\n",
       "      <td>0</td>\n",
       "      <td>0</td>\n",
       "      <td>6376</td>\n",
       "      <td>6376</td>\n",
       "    </tr>\n",
       "    <tr>\n",
       "      <th>7S_ACTIVO</th>\n",
       "      <td>20064</td>\n",
       "      <td>20064</td>\n",
       "      <td>0</td>\n",
       "      <td>0</td>\n",
       "    </tr>\n",
       "    <tr>\n",
       "      <th>7T_ACTIVO</th>\n",
       "      <td>0</td>\n",
       "      <td>0</td>\n",
       "      <td>191074</td>\n",
       "      <td>191074</td>\n",
       "    </tr>\n",
       "    <tr>\n",
       "      <th>7X1_ACTIVO</th>\n",
       "      <td>9144</td>\n",
       "      <td>9144</td>\n",
       "      <td>0</td>\n",
       "      <td>0</td>\n",
       "    </tr>\n",
       "    <tr>\n",
       "      <th>7X2_ACTIVO</th>\n",
       "      <td>8014</td>\n",
       "      <td>8014</td>\n",
       "      <td>0</td>\n",
       "      <td>0</td>\n",
       "    </tr>\n",
       "  </tbody>\n",
       "</table>\n",
       "</div>"
      ],
      "text/plain": [
       "              CYLINDER_x  POWER_AXIS_x  CYLINDER_y  POWER_AXIS_y\n",
       "PRODUCT_CODE                                                    \n",
       "5T_ACTIVO              0             0        6376          6376\n",
       "7S_ACTIVO          20064         20064           0             0\n",
       "7T_ACTIVO              0             0      191074        191074\n",
       "7X1_ACTIVO          9144          9144           0             0\n",
       "7X2_ACTIVO          8014          8014           0             0"
      ]
     },
     "execution_count": 22,
     "metadata": {},
     "output_type": "execute_result"
    }
   ],
   "source": [
    "na_counts.head()"
   ]
  },
  {
   "cell_type": "markdown",
   "id": "a558e1c2",
   "metadata": {},
   "source": [
    "Cylinder_x is the number of NAs in Cylinder for a product code, then Cylinder_y is the count or number of valid entries (not NAs) in Cylinder for the product, same for Power_Axis. Products with pure NAs mean they are not customizable at Cylinder or Power_Axis level, then products with pure valid entries, mean they are customizable, if we have products with both we might need to treat them specially."
   ]
  },
  {
   "cell_type": "code",
   "execution_count": 23,
   "id": "1b324b39",
   "metadata": {},
   "outputs": [
    {
     "data": {
      "text/html": [
       "<div>\n",
       "<style scoped>\n",
       "    .dataframe tbody tr th:only-of-type {\n",
       "        vertical-align: middle;\n",
       "    }\n",
       "\n",
       "    .dataframe tbody tr th {\n",
       "        vertical-align: top;\n",
       "    }\n",
       "\n",
       "    .dataframe thead th {\n",
       "        text-align: right;\n",
       "    }\n",
       "</style>\n",
       "<table border=\"1\" class=\"dataframe\">\n",
       "  <thead>\n",
       "    <tr style=\"text-align: right;\">\n",
       "      <th></th>\n",
       "      <th>CYLINDER_x</th>\n",
       "      <th>POWER_AXIS_x</th>\n",
       "      <th>CYLINDER_y</th>\n",
       "      <th>POWER_AXIS_y</th>\n",
       "    </tr>\n",
       "    <tr>\n",
       "      <th>PRODUCT_CODE</th>\n",
       "      <th></th>\n",
       "      <th></th>\n",
       "      <th></th>\n",
       "      <th></th>\n",
       "    </tr>\n",
       "  </thead>\n",
       "  <tbody>\n",
       "  </tbody>\n",
       "</table>\n",
       "</div>"
      ],
      "text/plain": [
       "Empty DataFrame\n",
       "Columns: [CYLINDER_x, POWER_AXIS_x, CYLINDER_y, POWER_AXIS_y]\n",
       "Index: []"
      ]
     },
     "execution_count": 23,
     "metadata": {},
     "output_type": "execute_result"
    }
   ],
   "source": [
    "na_counts[(na_counts['CYLINDER_x'] > 0) & (na_counts['CYLINDER_y'] > 0)]"
   ]
  },
  {
   "cell_type": "code",
   "execution_count": 24,
   "id": "7ad7fffa",
   "metadata": {},
   "outputs": [
    {
     "data": {
      "text/html": [
       "<div>\n",
       "<style scoped>\n",
       "    .dataframe tbody tr th:only-of-type {\n",
       "        vertical-align: middle;\n",
       "    }\n",
       "\n",
       "    .dataframe tbody tr th {\n",
       "        vertical-align: top;\n",
       "    }\n",
       "\n",
       "    .dataframe thead th {\n",
       "        text-align: right;\n",
       "    }\n",
       "</style>\n",
       "<table border=\"1\" class=\"dataframe\">\n",
       "  <thead>\n",
       "    <tr style=\"text-align: right;\">\n",
       "      <th></th>\n",
       "      <th>CYLINDER_x</th>\n",
       "      <th>POWER_AXIS_x</th>\n",
       "      <th>CYLINDER_y</th>\n",
       "      <th>POWER_AXIS_y</th>\n",
       "    </tr>\n",
       "    <tr>\n",
       "      <th>PRODUCT_CODE</th>\n",
       "      <th></th>\n",
       "      <th></th>\n",
       "      <th></th>\n",
       "      <th></th>\n",
       "    </tr>\n",
       "  </thead>\n",
       "  <tbody>\n",
       "  </tbody>\n",
       "</table>\n",
       "</div>"
      ],
      "text/plain": [
       "Empty DataFrame\n",
       "Columns: [CYLINDER_x, POWER_AXIS_x, CYLINDER_y, POWER_AXIS_y]\n",
       "Index: []"
      ]
     },
     "execution_count": 24,
     "metadata": {},
     "output_type": "execute_result"
    }
   ],
   "source": [
    "na_counts[(na_counts['POWER_AXIS_x'] > 0) & (na_counts['POWER_AXIS_y'] > 0)]"
   ]
  },
  {
   "cell_type": "markdown",
   "id": "a28ede0d",
   "metadata": {},
   "source": [
    "No ambigous products, so its safe to say that all rows with NAs in Cylinder and Power Axis correspond to products that cannot be customizable for this parameters."
   ]
  },
  {
   "cell_type": "markdown",
   "id": "e219a238",
   "metadata": {},
   "source": [
    "#### NAs and Outliers"
   ]
  },
  {
   "cell_type": "code",
   "execution_count": 26,
   "id": "b1263aa9",
   "metadata": {},
   "outputs": [
    {
     "data": {
      "text/plain": [
       "CONF_CODE              0\n",
       "ORDER_ROW              0\n",
       "JO_PROG                0\n",
       "PRODUCT_CODE           0\n",
       "MATERIAL_CODE          0\n",
       "BASE_RADIUS            0\n",
       "POWER                  0\n",
       "CYLINDER         1288678\n",
       "POWER_AXIS       1288678\n",
       "DIAMETER               0\n",
       "CENTER_THK             0\n",
       "LAUNCH_DATE            0\n",
       "ItemCode           38161\n",
       "ItemName           38220\n",
       "LinProd            38220\n",
       "CodFam             38220\n",
       "CodSubFam          38220\n",
       "dtype: int64"
      ]
     },
     "execution_count": 26,
     "metadata": {},
     "output_type": "execute_result"
    }
   ],
   "source": [
    "# Check NAs\n",
    "jobOrder.isna().sum()"
   ]
  },
  {
   "cell_type": "markdown",
   "id": "3e724838",
   "metadata": {},
   "source": [
    "There are NAs because of products that didn't have a matching record in the Articulos data file. All the treatment of NAs or outliers that will result in removing rows will be done within the clustering code, since the data, even with missing values, its still of value for predicting total job demand."
   ]
  },
  {
   "cell_type": "markdown",
   "id": "5e5f75f7",
   "metadata": {},
   "source": [
    "#### Export final jobOrder file for future analysis."
   ]
  },
  {
   "cell_type": "code",
   "execution_count": 30,
   "id": "324b7f7c",
   "metadata": {},
   "outputs": [],
   "source": [
    "jobOrder.to_csv('jobOrder_Clean.csv', sep='|', index=False)"
   ]
  }
 ],
 "metadata": {
  "kernelspec": {
   "display_name": "Python 3 (ipykernel)",
   "language": "python",
   "name": "python3"
  },
  "language_info": {
   "codemirror_mode": {
    "name": "ipython",
    "version": 3
   },
   "file_extension": ".py",
   "mimetype": "text/x-python",
   "name": "python",
   "nbconvert_exporter": "python",
   "pygments_lexer": "ipython3",
   "version": "3.9.12"
  }
 },
 "nbformat": 4,
 "nbformat_minor": 5
}
