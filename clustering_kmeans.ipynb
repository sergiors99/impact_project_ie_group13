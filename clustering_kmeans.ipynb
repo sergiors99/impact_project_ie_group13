{
 "cells": [
  {
   "cell_type": "code",
   "execution_count": null,
   "metadata": {},
   "outputs": [],
   "source": [
    "# Importing the necassary libraries\n",
    "import pandas as pd\n",
    "import os\n",
    "import numpy as np\n",
    "from datetime import datetime\n",
    "import matplotlib.pyplot as plt\n",
    "from sklearn.cluster import KMeans\n",
    "from sklearn.preprocessing import StandardScaler"
   ]
  },
  {
   "cell_type": "code",
   "execution_count": 2,
   "metadata": {},
   "outputs": [
    {
     "name": "stdout",
     "output_type": "stream",
     "text": [
      "Directory already exists\n"
     ]
    }
   ],
   "source": [
    "# # We create a directory where we specifically want to save clustering results\n",
    "directory = \"clustering\"\n",
    "\n",
    "if not os.path.exists(directory):\n",
    "    # Create the directory\n",
    "    os.mkdir(directory)\n",
    "    print(\"Directory created successfully\")\n",
    "else:\n",
    "    print(\"Directory already exists\")"
   ]
  },
  {
   "cell_type": "code",
   "execution_count": 2,
   "metadata": {},
   "outputs": [],
   "source": [
    "# Load data\n",
    "jobOrder_A = pd.read_csv(\"jobOrder_A.csv\")\n",
    "jobOrder_B = pd.read_csv(\"jobOrder_B.csv\")"
   ]
  },
  {
   "cell_type": "code",
   "execution_count": 3,
   "metadata": {},
   "outputs": [],
   "source": [
    "# Drop irrelevant columns for clustering\n",
    "not_relevantAB = [\"LAUNCH_DATE\", \"PRIMARY_KEY\", \"MATERIAL_CODE\", \"CodFam\", \"CodSubFam\"]\n",
    "\n",
    "jobOrder_A.drop(columns=not_relevantAB, inplace=True)\n",
    "jobOrder_B.drop(columns=not_relevantAB, inplace=True)"
   ]
  },
  {
   "cell_type": "code",
   "execution_count": 5,
   "metadata": {},
   "outputs": [],
   "source": [
    "# Additionally drop these 2 columns as they are not part of group A\n",
    "not_relevantA = [\"CYLINDER\", \"POWER_AXIS\"]\n",
    "\n",
    "jobOrder_A.drop(columns=not_relevantA, inplace=True)"
   ]
  },
  {
   "cell_type": "code",
   "execution_count": 4,
   "metadata": {},
   "outputs": [],
   "source": [
    "columns_toClusterA = jobOrder_A.columns\n",
    "columns_toClusterB = jobOrder_B.columns"
   ]
  },
  {
   "cell_type": "code",
   "execution_count": 5,
   "metadata": {},
   "outputs": [],
   "source": [
    "# Scale data to work better with algorithm\n",
    "scaler = StandardScaler()"
   ]
  },
  {
   "cell_type": "code",
   "execution_count": 23,
   "metadata": {},
   "outputs": [],
   "source": [
    "jobOrder_A = jobOrder_A.apply(pd.to_numeric, errors='coerce')\n",
    "jobOrder_A = scaler.fit_transform(jobOrder_A)\n",
    "jobOrder_A = pd.DataFrame(jobOrder_A, columns=columns_toClusterA)"
   ]
  },
  {
   "cell_type": "code",
   "execution_count": 9,
   "metadata": {},
   "outputs": [
    {
     "data": {
      "image/png": "[encoded data removed]",
      "text/plain": [
       "<Figure size 640x480 with 1 Axes>"
      ]
     },
     "metadata": {},
     "output_type": "display_data"
    }
   ],
   "source": [
    "# Plot intertia against number of clasters to make use of the elbow method and determine a number the amount of clusters we want for group A\n",
    "k_values = range(5, 100)\n",
    "inertias = []\n",
    "\n",
    "for k in k_values:\n",
    "    kmeans = KMeans(n_clusters=k, n_init=8)\n",
    "    kmeans.fit(jobOrder_A)\n",
    "    inertias.append(kmeans.inertia_)\n",
    "\n",
    "plt.plot(k_values, inertias, 'o-')\n",
    "plt.xlabel('Number of Clusters (K)')\n",
    "plt.ylabel('Inertia')\n",
    "plt.title('Elbow Method - Group A')\n",
    "plt.show()"
   ]
  },
  {
   "cell_type": "code",
   "execution_count": 24,
   "metadata": {},
   "outputs": [],
   "source": [
    "# After plotting graph we make the decision to use 25 clusters\n",
    "kmeans = KMeans(n_clusters=25, n_init=8)\n",
    "kmeans.fit(jobOrder_A)"
   ]
  },
  {
   "cell_type": "code",
   "execution_count": null,
   "metadata": {},
   "outputs": [
    {
     "data": {
      "text/html": [
       "<div>\n",
       "<style scoped>\n",
       "    .dataframe tbody tr th:only-of-type {\n",
       "        vertical-align: middle;\n",
       "    }\n",
       "\n",
       "    .dataframe tbody tr th {\n",
       "        vertical-align: top;\n",
       "    }\n",
       "\n",
       "    .dataframe thead th {\n",
       "        text-align: right;\n",
       "    }\n",
       "</style>\n",
       "<table border=\"1\" class=\"dataframe\">\n",
       "  <thead>\n",
       "    <tr style=\"text-align: right;\">\n",
       "      <th></th>\n",
       "      <th>PRIMARY_KEY</th>\n",
       "      <th>MATERIAL_CODE</th>\n",
       "      <th>BASE_RADIUS</th>\n",
       "      <th>POWER</th>\n",
       "      <th>DIAMETER</th>\n",
       "      <th>CENTER_THK</th>\n",
       "      <th>LAUNCH_DATE</th>\n",
       "      <th>CodFam</th>\n",
       "      <th>CodSubFam</th>\n",
       "      <th>month</th>\n",
       "      <th>Cluster</th>\n",
       "    </tr>\n",
       "  </thead>\n",
       "  <tbody>\n",
       "    <tr>\n",
       "      <th>0</th>\n",
       "      <td>FO8973_1_0</td>\n",
       "      <td>3201.0</td>\n",
       "      <td>8.0</td>\n",
       "      <td>-3.50</td>\n",
       "      <td>14.5</td>\n",
       "      <td>0.10</td>\n",
       "      <td>2020-01-02 10:07:00</td>\n",
       "      <td>1.0</td>\n",
       "      <td>5.0</td>\n",
       "      <td>1</td>\n",
       "      <td>12</td>\n",
       "    </tr>\n",
       "    <tr>\n",
       "      <th>1</th>\n",
       "      <td>FO9775_2_0</td>\n",
       "      <td>3201.0</td>\n",
       "      <td>8.3</td>\n",
       "      <td>-1.25</td>\n",
       "      <td>14.5</td>\n",
       "      <td>0.12</td>\n",
       "      <td>2020-01-02 05:57:00</td>\n",
       "      <td>1.0</td>\n",
       "      <td>5.0</td>\n",
       "      <td>1</td>\n",
       "      <td>7</td>\n",
       "    </tr>\n",
       "    <tr>\n",
       "      <th>2</th>\n",
       "      <td>FO9799_2_0</td>\n",
       "      <td>3201.0</td>\n",
       "      <td>8.3</td>\n",
       "      <td>-2.25</td>\n",
       "      <td>14.5</td>\n",
       "      <td>0.10</td>\n",
       "      <td>2020-01-02 05:25:00</td>\n",
       "      <td>1.0</td>\n",
       "      <td>5.0</td>\n",
       "      <td>1</td>\n",
       "      <td>7</td>\n",
       "    </tr>\n",
       "    <tr>\n",
       "      <th>3</th>\n",
       "      <td>FO9799_3_0</td>\n",
       "      <td>3201.0</td>\n",
       "      <td>8.3</td>\n",
       "      <td>-2.25</td>\n",
       "      <td>14.5</td>\n",
       "      <td>0.10</td>\n",
       "      <td>2020-01-02 05:57:00</td>\n",
       "      <td>1.0</td>\n",
       "      <td>5.0</td>\n",
       "      <td>1</td>\n",
       "      <td>7</td>\n",
       "    </tr>\n",
       "    <tr>\n",
       "      <th>4</th>\n",
       "      <td>FO9958_2_0</td>\n",
       "      <td>3201.0</td>\n",
       "      <td>8.9</td>\n",
       "      <td>-3.75</td>\n",
       "      <td>15.0</td>\n",
       "      <td>0.10</td>\n",
       "      <td>2020-01-02 09:25:00</td>\n",
       "      <td>1.0</td>\n",
       "      <td>5.0</td>\n",
       "      <td>1</td>\n",
       "      <td>7</td>\n",
       "    </tr>\n",
       "  </tbody>\n",
       "</table>\n",
       "</div>"
      ],
      "text/plain": [
       "  PRIMARY_KEY  MATERIAL_CODE  BASE_RADIUS  POWER  DIAMETER  CENTER_THK  \\\n",
       "0  FO8973_1_0         3201.0          8.0  -3.50      14.5        0.10   \n",
       "1  FO9775_2_0         3201.0          8.3  -1.25      14.5        0.12   \n",
       "2  FO9799_2_0         3201.0          8.3  -2.25      14.5        0.10   \n",
       "3  FO9799_3_0         3201.0          8.3  -2.25      14.5        0.10   \n",
       "4  FO9958_2_0         3201.0          8.9  -3.75      15.0        0.10   \n",
       "\n",
       "           LAUNCH_DATE  CodFam  CodSubFam  month  Cluster  \n",
       "0  2020-01-02 10:07:00     1.0        5.0      1       12  \n",
       "1  2020-01-02 05:57:00     1.0        5.0      1        7  \n",
       "2  2020-01-02 05:25:00     1.0        5.0      1        7  \n",
       "3  2020-01-02 05:57:00     1.0        5.0      1        7  \n",
       "4  2020-01-02 09:25:00     1.0        5.0      1        7  "
      ]
     },
     "execution_count": 10,
     "metadata": {},
     "output_type": "execute_result"
    }
   ],
   "source": [
    "# Our final file needs to have the original data for the company to interpret, so we drop the encoded columns we created in the beginning for the clustering\n",
    "# Ultimately, we add the cluster to wich each rows belongs to\n",
    "labels = kmeans.labels_\n",
    "cluster_centers = kmeans.cluster_centers_\n",
    "\n",
    "jobOrder_A = pd.read_csv(\"jobOrder_A.csv\")\n",
    "not_relevantA = [\"CYLINDER\", \"POWER_AXIS\"]\n",
    "jobOrder_A.drop(columns=not_relevantA, inplace=True)\n",
    "not_relevantAB = [\"category_material\", \"category_fam\", \"category_subfam\"]\n",
    "jobOrder_A.drop(columns=not_relevantAB, inplace=True)\n",
    "\n",
    "jobOrder_A['Cluster'] = labels\n",
    "jobOrder_A.head()"
   ]
  },
  {
   "cell_type": "code",
   "execution_count": null,
   "metadata": {},
   "outputs": [],
   "source": [
    "# Save results to find \"made to stock\" combinations\n",
    "jobOrder_A.to_csv(\"clustering/clusterA_kmeans.csv\", header=True, index=False)"
   ]
  },
  {
   "cell_type": "code",
   "execution_count": 6,
   "metadata": {},
   "outputs": [],
   "source": [
    "jobOrder_B = jobOrder_B.apply(pd.to_numeric, errors='coerce')\n",
    "jobOrder_B = scaler.fit_transform(jobOrder_B)\n",
    "jobOrder_B = pd.DataFrame(jobOrder_B, columns=columns_toClusterB)"
   ]
  },
  {
   "cell_type": "code",
   "execution_count": 7,
   "metadata": {},
   "outputs": [],
   "source": [
    "# Plot intertia against number of clasters to make use of the elbow method and determine a number the amount of clusters we want for group B\n",
    "k_values = range(5, 100)\n",
    "inertias = []\n",
    "\n",
    "for k in k_values:\n",
    "    kmeans = KMeans(n_clusters=k, n_init=8)\n",
    "    kmeans.fit(jobOrder_B)\n",
    "    inertias.append(kmeans.inertia_)\n",
    "\n",
    "plt.plot(k_values, inertias, 'o-')\n",
    "plt.xlabel('Number of Clusters (K)')\n",
    "plt.ylabel('Inertia')\n",
    "plt.title('Elbow Method - Group B')\n",
    "plt.show()"
   ]
  },
  {
   "cell_type": "code",
   "execution_count": 7,
   "metadata": {},
   "outputs": [
    {
     "data": {
      "text/html": [
       "<style>#sk-container-id-1 {color: black;background-color: white;}#sk-container-id-1 pre{padding: 0;}#sk-container-id-1 div.sk-toggleable {background-color: white;}#sk-container-id-1 label.sk-toggleable__label {cursor: pointer;display: block;width: 100%;margin-bottom: 0;padding: 0.3em;box-sizing: border-box;text-align: center;}#sk-container-id-1 label.sk-toggleable__label-arrow:before {content: \"▸\";float: left;margin-right: 0.25em;color: #696969;}#sk-container-id-1 label.sk-toggleable__label-arrow:hover:before {color: black;}#sk-container-id-1 div.sk-estimator:hover label.sk-toggleable__label-arrow:before {color: black;}#sk-container-id-1 div.sk-toggleable__content {max-height: 0;max-width: 0;overflow: hidden;text-align: left;background-color: #f0f8ff;}#sk-container-id-1 div.sk-toggleable__content pre {margin: 0.2em;color: black;border-radius: 0.25em;background-color: #f0f8ff;}#sk-container-id-1 input.sk-toggleable__control:checked~div.sk-toggleable__content {max-height: 200px;max-width: 100%;overflow: auto;}#sk-container-id-1 input.sk-toggleable__control:checked~label.sk-toggleable__label-arrow:before {content: \"▾\";}#sk-container-id-1 div.sk-estimator input.sk-toggleable__control:checked~label.sk-toggleable__label {background-color: #d4ebff;}#sk-container-id-1 div.sk-label input.sk-toggleable__control:checked~label.sk-toggleable__label {background-color: #d4ebff;}#sk-container-id-1 input.sk-hidden--visually {border: 0;clip: rect(1px 1px 1px 1px);clip: rect(1px, 1px, 1px, 1px);height: 1px;margin: -1px;overflow: hidden;padding: 0;position: absolute;width: 1px;}#sk-container-id-1 div.sk-estimator {font-family: monospace;background-color: #f0f8ff;border: 1px dotted black;border-radius: 0.25em;box-sizing: border-box;margin-bottom: 0.5em;}#sk-container-id-1 div.sk-estimator:hover {background-color: #d4ebff;}#sk-container-id-1 div.sk-parallel-item::after {content: \"\";width: 100%;border-bottom: 1px solid gray;flex-grow: 1;}#sk-container-id-1 div.sk-label:hover label.sk-toggleable__label {background-color: #d4ebff;}#sk-container-id-1 div.sk-serial::before {content: \"\";position: absolute;border-left: 1px solid gray;box-sizing: border-box;top: 0;bottom: 0;left: 50%;z-index: 0;}#sk-container-id-1 div.sk-serial {display: flex;flex-direction: column;align-items: center;background-color: white;padding-right: 0.2em;padding-left: 0.2em;position: relative;}#sk-container-id-1 div.sk-item {position: relative;z-index: 1;}#sk-container-id-1 div.sk-parallel {display: flex;align-items: stretch;justify-content: center;background-color: white;position: relative;}#sk-container-id-1 div.sk-item::before, #sk-container-id-1 div.sk-parallel-item::before {content: \"\";position: absolute;border-left: 1px solid gray;box-sizing: border-box;top: 0;bottom: 0;left: 50%;z-index: -1;}#sk-container-id-1 div.sk-parallel-item {display: flex;flex-direction: column;z-index: 1;position: relative;background-color: white;}#sk-container-id-1 div.sk-parallel-item:first-child::after {align-self: flex-end;width: 50%;}#sk-container-id-1 div.sk-parallel-item:last-child::after {align-self: flex-start;width: 50%;}#sk-container-id-1 div.sk-parallel-item:only-child::after {width: 0;}#sk-container-id-1 div.sk-dashed-wrapped {border: 1px dashed gray;margin: 0 0.4em 0.5em 0.4em;box-sizing: border-box;padding-bottom: 0.4em;background-color: white;}#sk-container-id-1 div.sk-label label {font-family: monospace;font-weight: bold;display: inline-block;line-height: 1.2em;}#sk-container-id-1 div.sk-label-container {text-align: center;}#sk-container-id-1 div.sk-container {/* jupyter's `normalize.less` sets `[hidden] { display: none; }` but bootstrap.min.css set `[hidden] { display: none !important; }` so we also need the `!important` here to be able to override the default hidden behavior on the sphinx rendered scikit-learn.org. See: https://github.com/scikit-learn/scikit-learn/issues/21755 */display: inline-block !important;position: relative;}#sk-container-id-1 div.sk-text-repr-fallback {display: none;}</style><div id=\"sk-container-id-1\" class=\"sk-top-container\"><div class=\"sk-text-repr-fallback\"><pre>KMeans(n_clusters=25, n_init=8)</pre><b>In a Jupyter environment, please rerun this cell to show the HTML representation or trust the notebook. <br />On GitHub, the HTML representation is unable to render, please try loading this page with nbviewer.org.</b></div><div class=\"sk-container\" hidden><div class=\"sk-item\"><div class=\"sk-estimator sk-toggleable\"><input class=\"sk-toggleable__control sk-hidden--visually\" id=\"sk-estimator-id-1\" type=\"checkbox\" checked><label for=\"sk-estimator-id-1\" class=\"sk-toggleable__label sk-toggleable__label-arrow\">KMeans</label><div class=\"sk-toggleable__content\"><pre>KMeans(n_clusters=25, n_init=8)</pre></div></div></div></div></div>"
      ],
      "text/plain": [
       "KMeans(n_clusters=25, n_init=8)"
      ]
     },
     "execution_count": 7,
     "metadata": {},
     "output_type": "execute_result"
    }
   ],
   "source": [
    "# After plotting graph we make the decision to use 25 clusters\n",
    "kmeans = KMeans(n_clusters=25, n_init=8)\n",
    "kmeans.fit(jobOrder_B)"
   ]
  },
  {
   "cell_type": "code",
   "execution_count": null,
   "metadata": {},
   "outputs": [
    {
     "data": {
      "text/html": [
       "<div>\n",
       "<style scoped>\n",
       "    .dataframe tbody tr th:only-of-type {\n",
       "        vertical-align: middle;\n",
       "    }\n",
       "\n",
       "    .dataframe tbody tr th {\n",
       "        vertical-align: top;\n",
       "    }\n",
       "\n",
       "    .dataframe thead th {\n",
       "        text-align: right;\n",
       "    }\n",
       "</style>\n",
       "<table border=\"1\" class=\"dataframe\">\n",
       "  <thead>\n",
       "    <tr style=\"text-align: right;\">\n",
       "      <th></th>\n",
       "      <th>PRIMARY_KEY</th>\n",
       "      <th>MATERIAL_CODE</th>\n",
       "      <th>BASE_RADIUS</th>\n",
       "      <th>POWER</th>\n",
       "      <th>CYLINDER</th>\n",
       "      <th>POWER_AXIS</th>\n",
       "      <th>DIAMETER</th>\n",
       "      <th>CENTER_THK</th>\n",
       "      <th>LAUNCH_DATE</th>\n",
       "      <th>CodFam</th>\n",
       "      <th>CodSubFam</th>\n",
       "      <th>month</th>\n",
       "      <th>Cluster</th>\n",
       "    </tr>\n",
       "  </thead>\n",
       "  <tbody>\n",
       "    <tr>\n",
       "      <th>0</th>\n",
       "      <td>CH6997_5_0</td>\n",
       "      <td>1001.0</td>\n",
       "      <td>8.7</td>\n",
       "      <td>9.0</td>\n",
       "      <td>-0.75</td>\n",
       "      <td>180.0</td>\n",
       "      <td>14.4</td>\n",
       "      <td>0.4268</td>\n",
       "      <td>2020-11-09 15:00:00</td>\n",
       "      <td>1.0</td>\n",
       "      <td>3.0</td>\n",
       "      <td>11</td>\n",
       "      <td>11</td>\n",
       "    </tr>\n",
       "    <tr>\n",
       "      <th>1</th>\n",
       "      <td>CH7603_9_0</td>\n",
       "      <td>1001.0</td>\n",
       "      <td>8.7</td>\n",
       "      <td>4.0</td>\n",
       "      <td>-3.25</td>\n",
       "      <td>50.0</td>\n",
       "      <td>14.4</td>\n",
       "      <td>0.3041</td>\n",
       "      <td>2020-11-09 15:00:00</td>\n",
       "      <td>1.0</td>\n",
       "      <td>3.0</td>\n",
       "      <td>11</td>\n",
       "      <td>21</td>\n",
       "    </tr>\n",
       "    <tr>\n",
       "      <th>2</th>\n",
       "      <td>CI1456_9_0</td>\n",
       "      <td>1001.0</td>\n",
       "      <td>8.7</td>\n",
       "      <td>0.5</td>\n",
       "      <td>-4.25</td>\n",
       "      <td>180.0</td>\n",
       "      <td>14.4</td>\n",
       "      <td>0.1901</td>\n",
       "      <td>2020-11-09 15:00:00</td>\n",
       "      <td>1.0</td>\n",
       "      <td>3.0</td>\n",
       "      <td>11</td>\n",
       "      <td>22</td>\n",
       "    </tr>\n",
       "    <tr>\n",
       "      <th>3</th>\n",
       "      <td>CI1456_A_0</td>\n",
       "      <td>1001.0</td>\n",
       "      <td>8.7</td>\n",
       "      <td>0.5</td>\n",
       "      <td>-4.25</td>\n",
       "      <td>180.0</td>\n",
       "      <td>14.4</td>\n",
       "      <td>0.1901</td>\n",
       "      <td>2020-11-09 15:00:00</td>\n",
       "      <td>1.0</td>\n",
       "      <td>3.0</td>\n",
       "      <td>11</td>\n",
       "      <td>22</td>\n",
       "    </tr>\n",
       "    <tr>\n",
       "      <th>4</th>\n",
       "      <td>CI1456_B_0</td>\n",
       "      <td>1001.0</td>\n",
       "      <td>8.7</td>\n",
       "      <td>0.5</td>\n",
       "      <td>-4.25</td>\n",
       "      <td>180.0</td>\n",
       "      <td>14.4</td>\n",
       "      <td>0.1901</td>\n",
       "      <td>2020-11-09 15:00:00</td>\n",
       "      <td>1.0</td>\n",
       "      <td>3.0</td>\n",
       "      <td>11</td>\n",
       "      <td>22</td>\n",
       "    </tr>\n",
       "  </tbody>\n",
       "</table>\n",
       "</div>"
      ],
      "text/plain": [
       "  PRIMARY_KEY  MATERIAL_CODE  BASE_RADIUS  POWER  CYLINDER  POWER_AXIS  \\\n",
       "0  CH6997_5_0         1001.0          8.7    9.0     -0.75       180.0   \n",
       "1  CH7603_9_0         1001.0          8.7    4.0     -3.25        50.0   \n",
       "2  CI1456_9_0         1001.0          8.7    0.5     -4.25       180.0   \n",
       "3  CI1456_A_0         1001.0          8.7    0.5     -4.25       180.0   \n",
       "4  CI1456_B_0         1001.0          8.7    0.5     -4.25       180.0   \n",
       "\n",
       "   DIAMETER  CENTER_THK          LAUNCH_DATE  CodFam  CodSubFam  month  \\\n",
       "0      14.4      0.4268  2020-11-09 15:00:00     1.0        3.0     11   \n",
       "1      14.4      0.3041  2020-11-09 15:00:00     1.0        3.0     11   \n",
       "2      14.4      0.1901  2020-11-09 15:00:00     1.0        3.0     11   \n",
       "3      14.4      0.1901  2020-11-09 15:00:00     1.0        3.0     11   \n",
       "4      14.4      0.1901  2020-11-09 15:00:00     1.0        3.0     11   \n",
       "\n",
       "   Cluster  \n",
       "0       11  \n",
       "1       21  \n",
       "2       22  \n",
       "3       22  \n",
       "4       22  "
      ]
     },
     "execution_count": 14,
     "metadata": {},
     "output_type": "execute_result"
    }
   ],
   "source": [
    "# Our final file needs to have the original data for the company to interpret, so we drop the encoded columns we created in the beginning for the clustering\n",
    "# Ultimately, we add the cluster to wich each rows belongs to\n",
    "labels = kmeans.labels_\n",
    "cluster_centers = kmeans.cluster_centers_\n",
    "\n",
    "jobOrder_B = pd.read_csv(\"jobOrder_B.csv\")\n",
    "not_relevantAB = [\"category_material\", \"category_fam\", \"category_subfam\"]\n",
    "jobOrder_B.drop(columns=not_relevantAB, inplace=True)\n",
    "\n",
    "jobOrder_B['Cluster'] = labels\n",
    "jobOrder_B.head()"
   ]
  },
  {
   "cell_type": "code",
   "execution_count": null,
   "metadata": {},
   "outputs": [],
   "source": [
    "# Save results to find \"made to stock\" combinations\n",
    "jobOrder_B.to_csv(\"clustering/clusterB_kmeans.csv\", header=True, index=False)"
   ]
  }
 ],
 "metadata": {
  "kernelspec": {
   "display_name": "base",
   "language": "python",
   "name": "python3"
  },
  "language_info": {
   "codemirror_mode": {
    "name": "ipython",
    "version": 3
   },
   "file_extension": ".py",
   "mimetype": "text/x-python",
   "name": "python",
   "nbconvert_exporter": "python",
   "pygments_lexer": "ipython3",
   "version": "3.9.13"
  },
  "orig_nbformat": 4
 },
 "nbformat": 4,
 "nbformat_minor": 2
}
