{
 "cells": [
  {
   "cell_type": "code",
   "execution_count": null,
   "metadata": {},
   "outputs": [],
   "source": [
    "# Importing the necassary libraries\n",
    "import pandas as pd\n",
    "import numpy as np\n",
    "import os\n",
    "from datetime import datetime\n",
    "from sklearn.cluster import DBSCAN\n",
    "import matplotlib.pyplot as plt\n",
    "from sklearn.preprocessing import StandardScaler\n",
    "from sklearn.model_selection import ParameterGrid"
   ]
  },
  {
   "cell_type": "code",
   "execution_count": 2,
   "metadata": {},
   "outputs": [
    {
     "name": "stdout",
     "output_type": "stream",
     "text": [
      "Directory already exists\n"
     ]
    }
   ],
   "source": [
    "# We create a directory where we specifically want to save clustering results\n",
    "\n",
    "directory = \"clustering\"\n",
    "\n",
    "if not os.path.exists(directory):\n",
    "    # Create the directory\n",
    "    os.mkdir(directory)\n",
    "    print(\"Directory created successfully\")\n",
    "else:\n",
    "    print(\"Directory already exists\")"
   ]
  },
  {
   "cell_type": "code",
   "execution_count": null,
   "metadata": {},
   "outputs": [],
   "source": [
    "# Load data\n",
    "jobOrder_A = pd.read_csv(\"jobOrder_A.csv\")\n",
    "jobOrder_B = pd.read_csv(\"jobOrder_B.csv\")"
   ]
  },
  {
   "cell_type": "code",
   "execution_count": 4,
   "metadata": {},
   "outputs": [],
   "source": [
    "# Drop irrelevant columns for clustering\n",
    "not_relevantAB = [\"LAUNCH_DATE\", \"PRIMARY_KEY\", \"MATERIAL_CODE\", \"CodFam\", \"CodSubFam\"]\n",
    "\n",
    "jobOrder_A.drop(columns=not_relevantAB, inplace=True)\n",
    "jobOrder_B.drop(columns=not_relevantAB, inplace=True)"
   ]
  },
  {
   "cell_type": "code",
   "execution_count": 5,
   "metadata": {},
   "outputs": [],
   "source": [
    "# Additionally drop these 2 columns as they are not part of group A\n",
    "not_relevantA = [\"CYLINDER\", \"POWER_AXIS\"]\n",
    "\n",
    "jobOrder_A.drop(columns=not_relevantA, inplace=True)"
   ]
  },
  {
   "cell_type": "code",
   "execution_count": 6,
   "metadata": {},
   "outputs": [],
   "source": [
    "# We setup our dbscan algorithm parameters\n",
    "# Scale data to work better with algorithm\n",
    "dbscan = DBSCAN(eps=0.4, min_samples=100)\n",
    "scaler = StandardScaler()"
   ]
  },
  {
   "cell_type": "code",
   "execution_count": 7,
   "metadata": {},
   "outputs": [],
   "source": [
    "jobOrder_A = scaler.fit_transform(jobOrder_A)\n",
    "jobOrder_B = scaler.fit_transform(jobOrder_B)"
   ]
  },
  {
   "cell_type": "code",
   "execution_count": 8,
   "metadata": {},
   "outputs": [],
   "source": [
    "# Fit clusters for group A\n",
    "clusters = dbscan.fit_predict(jobOrder_A)"
   ]
  },
  {
   "cell_type": "code",
   "execution_count": 9,
   "metadata": {},
   "outputs": [
    {
     "data": {
      "text/html": [
       "<div>\n",
       "<style scoped>\n",
       "    .dataframe tbody tr th:only-of-type {\n",
       "        vertical-align: middle;\n",
       "    }\n",
       "\n",
       "    .dataframe tbody tr th {\n",
       "        vertical-align: top;\n",
       "    }\n",
       "\n",
       "    .dataframe thead th {\n",
       "        text-align: right;\n",
       "    }\n",
       "</style>\n",
       "<table border=\"1\" class=\"dataframe\">\n",
       "  <thead>\n",
       "    <tr style=\"text-align: right;\">\n",
       "      <th></th>\n",
       "      <th>PRIMARY_KEY</th>\n",
       "      <th>MATERIAL_CODE</th>\n",
       "      <th>BASE_RADIUS</th>\n",
       "      <th>POWER</th>\n",
       "      <th>DIAMETER</th>\n",
       "      <th>CENTER_THK</th>\n",
       "      <th>LAUNCH_DATE</th>\n",
       "      <th>CodFam</th>\n",
       "      <th>CodSubFam</th>\n",
       "      <th>month</th>\n",
       "      <th>Cluster</th>\n",
       "    </tr>\n",
       "  </thead>\n",
       "  <tbody>\n",
       "    <tr>\n",
       "      <th>0</th>\n",
       "      <td>FO8973_1_0</td>\n",
       "      <td>3201.0</td>\n",
       "      <td>8.0</td>\n",
       "      <td>-3.50</td>\n",
       "      <td>14.5</td>\n",
       "      <td>0.10</td>\n",
       "      <td>2020-01-02 10:07:00</td>\n",
       "      <td>1.0</td>\n",
       "      <td>5.0</td>\n",
       "      <td>1</td>\n",
       "      <td>0</td>\n",
       "    </tr>\n",
       "    <tr>\n",
       "      <th>1</th>\n",
       "      <td>FO9775_2_0</td>\n",
       "      <td>3201.0</td>\n",
       "      <td>8.3</td>\n",
       "      <td>-1.25</td>\n",
       "      <td>14.5</td>\n",
       "      <td>0.12</td>\n",
       "      <td>2020-01-02 05:57:00</td>\n",
       "      <td>1.0</td>\n",
       "      <td>5.0</td>\n",
       "      <td>1</td>\n",
       "      <td>1</td>\n",
       "    </tr>\n",
       "    <tr>\n",
       "      <th>2</th>\n",
       "      <td>FO9799_2_0</td>\n",
       "      <td>3201.0</td>\n",
       "      <td>8.3</td>\n",
       "      <td>-2.25</td>\n",
       "      <td>14.5</td>\n",
       "      <td>0.10</td>\n",
       "      <td>2020-01-02 05:25:00</td>\n",
       "      <td>1.0</td>\n",
       "      <td>5.0</td>\n",
       "      <td>1</td>\n",
       "      <td>1</td>\n",
       "    </tr>\n",
       "    <tr>\n",
       "      <th>3</th>\n",
       "      <td>FO9799_3_0</td>\n",
       "      <td>3201.0</td>\n",
       "      <td>8.3</td>\n",
       "      <td>-2.25</td>\n",
       "      <td>14.5</td>\n",
       "      <td>0.10</td>\n",
       "      <td>2020-01-02 05:57:00</td>\n",
       "      <td>1.0</td>\n",
       "      <td>5.0</td>\n",
       "      <td>1</td>\n",
       "      <td>1</td>\n",
       "    </tr>\n",
       "    <tr>\n",
       "      <th>4</th>\n",
       "      <td>FO9958_2_0</td>\n",
       "      <td>3201.0</td>\n",
       "      <td>8.9</td>\n",
       "      <td>-3.75</td>\n",
       "      <td>15.0</td>\n",
       "      <td>0.10</td>\n",
       "      <td>2020-01-02 09:25:00</td>\n",
       "      <td>1.0</td>\n",
       "      <td>5.0</td>\n",
       "      <td>1</td>\n",
       "      <td>2</td>\n",
       "    </tr>\n",
       "  </tbody>\n",
       "</table>\n",
       "</div>"
      ],
      "text/plain": [
       "  PRIMARY_KEY  MATERIAL_CODE  BASE_RADIUS  POWER  DIAMETER  CENTER_THK  \\\n",
       "0  FO8973_1_0         3201.0          8.0  -3.50      14.5        0.10   \n",
       "1  FO9775_2_0         3201.0          8.3  -1.25      14.5        0.12   \n",
       "2  FO9799_2_0         3201.0          8.3  -2.25      14.5        0.10   \n",
       "3  FO9799_3_0         3201.0          8.3  -2.25      14.5        0.10   \n",
       "4  FO9958_2_0         3201.0          8.9  -3.75      15.0        0.10   \n",
       "\n",
       "           LAUNCH_DATE  CodFam  CodSubFam  month  Cluster  \n",
       "0  2020-01-02 10:07:00     1.0        5.0      1        0  \n",
       "1  2020-01-02 05:57:00     1.0        5.0      1        1  \n",
       "2  2020-01-02 05:25:00     1.0        5.0      1        1  \n",
       "3  2020-01-02 05:57:00     1.0        5.0      1        1  \n",
       "4  2020-01-02 09:25:00     1.0        5.0      1        2  "
      ]
     },
     "execution_count": 9,
     "metadata": {},
     "output_type": "execute_result"
    }
   ],
   "source": [
    "# Our final file needs to have the original data for the company to interpret, so we drop the encoded columns we created in the beginning for the clustering\n",
    "# Ultimately, we add the cluster to wich each rows belongs to\n",
    "jobOrder_A = pd.read_csv(\"jobOrder_A.csv\")\n",
    "not_relevantA = [\"CYLINDER\", \"POWER_AXIS\"]\n",
    "jobOrder_A.drop(columns=not_relevantA, inplace=True)\n",
    "not_relevantAB = [\"category_material\", \"category_fam\", \"category_subfam\"]\n",
    "jobOrder_A.drop(columns=not_relevantAB, inplace=True)\n",
    "\n",
    "jobOrder_A['Cluster'] = clusters\n",
    "jobOrder_A.head()"
   ]
  },
  {
   "cell_type": "code",
   "execution_count": 10,
   "metadata": {},
   "outputs": [
    {
     "data": {
      "text/plain": [
       "-1      219630\n",
       " 227     68883\n",
       " 222     61494\n",
       " 232     40211\n",
       " 224     36506\n",
       "         ...  \n",
       " 292        64\n",
       " 213        62\n",
       " 365        54\n",
       " 379        53\n",
       " 373        30\n",
       "Name: Cluster, Length: 383, dtype: int64"
      ]
     },
     "execution_count": 10,
     "metadata": {},
     "output_type": "execute_result"
    }
   ],
   "source": [
    "jobOrder_A[\"Cluster\"].value_counts()"
   ]
  },
  {
   "cell_type": "code",
   "execution_count": 11,
   "metadata": {},
   "outputs": [],
   "source": [
    "# Save results to find \"made to stock\" combinations\n",
    "jobOrder_A.to_csv(\"clustering/clusterA_dbscan.csv\", header=True)"
   ]
  },
  {
   "cell_type": "code",
   "execution_count": 12,
   "metadata": {},
   "outputs": [],
   "source": [
    "# Fit clusters for group B\n",
    "clusters = dbscan.fit_predict(jobOrder_B)"
   ]
  },
  {
   "cell_type": "code",
   "execution_count": 13,
   "metadata": {},
   "outputs": [
    {
     "data": {
      "text/html": [
       "<div>\n",
       "<style scoped>\n",
       "    .dataframe tbody tr th:only-of-type {\n",
       "        vertical-align: middle;\n",
       "    }\n",
       "\n",
       "    .dataframe tbody tr th {\n",
       "        vertical-align: top;\n",
       "    }\n",
       "\n",
       "    .dataframe thead th {\n",
       "        text-align: right;\n",
       "    }\n",
       "</style>\n",
       "<table border=\"1\" class=\"dataframe\">\n",
       "  <thead>\n",
       "    <tr style=\"text-align: right;\">\n",
       "      <th></th>\n",
       "      <th>PRIMARY_KEY</th>\n",
       "      <th>MATERIAL_CODE</th>\n",
       "      <th>BASE_RADIUS</th>\n",
       "      <th>POWER</th>\n",
       "      <th>CYLINDER</th>\n",
       "      <th>POWER_AXIS</th>\n",
       "      <th>DIAMETER</th>\n",
       "      <th>CENTER_THK</th>\n",
       "      <th>LAUNCH_DATE</th>\n",
       "      <th>CodFam</th>\n",
       "      <th>CodSubFam</th>\n",
       "      <th>month</th>\n",
       "      <th>Cluster</th>\n",
       "    </tr>\n",
       "  </thead>\n",
       "  <tbody>\n",
       "    <tr>\n",
       "      <th>0</th>\n",
       "      <td>CH6997_5_0</td>\n",
       "      <td>1001.0</td>\n",
       "      <td>8.7</td>\n",
       "      <td>9.0</td>\n",
       "      <td>-0.75</td>\n",
       "      <td>180.0</td>\n",
       "      <td>14.4</td>\n",
       "      <td>0.4268</td>\n",
       "      <td>2020-11-09 15:00:00</td>\n",
       "      <td>1.0</td>\n",
       "      <td>3.0</td>\n",
       "      <td>11</td>\n",
       "      <td>16</td>\n",
       "    </tr>\n",
       "    <tr>\n",
       "      <th>1</th>\n",
       "      <td>CH7603_9_0</td>\n",
       "      <td>1001.0</td>\n",
       "      <td>8.7</td>\n",
       "      <td>4.0</td>\n",
       "      <td>-3.25</td>\n",
       "      <td>50.0</td>\n",
       "      <td>14.4</td>\n",
       "      <td>0.3041</td>\n",
       "      <td>2020-11-09 15:00:00</td>\n",
       "      <td>1.0</td>\n",
       "      <td>3.0</td>\n",
       "      <td>11</td>\n",
       "      <td>2</td>\n",
       "    </tr>\n",
       "    <tr>\n",
       "      <th>2</th>\n",
       "      <td>CI1456_9_0</td>\n",
       "      <td>1001.0</td>\n",
       "      <td>8.7</td>\n",
       "      <td>0.5</td>\n",
       "      <td>-4.25</td>\n",
       "      <td>180.0</td>\n",
       "      <td>14.4</td>\n",
       "      <td>0.1901</td>\n",
       "      <td>2020-11-09 15:00:00</td>\n",
       "      <td>1.0</td>\n",
       "      <td>3.0</td>\n",
       "      <td>11</td>\n",
       "      <td>0</td>\n",
       "    </tr>\n",
       "    <tr>\n",
       "      <th>3</th>\n",
       "      <td>CI1456_A_0</td>\n",
       "      <td>1001.0</td>\n",
       "      <td>8.7</td>\n",
       "      <td>0.5</td>\n",
       "      <td>-4.25</td>\n",
       "      <td>180.0</td>\n",
       "      <td>14.4</td>\n",
       "      <td>0.1901</td>\n",
       "      <td>2020-11-09 15:00:00</td>\n",
       "      <td>1.0</td>\n",
       "      <td>3.0</td>\n",
       "      <td>11</td>\n",
       "      <td>0</td>\n",
       "    </tr>\n",
       "    <tr>\n",
       "      <th>4</th>\n",
       "      <td>CI1456_B_0</td>\n",
       "      <td>1001.0</td>\n",
       "      <td>8.7</td>\n",
       "      <td>0.5</td>\n",
       "      <td>-4.25</td>\n",
       "      <td>180.0</td>\n",
       "      <td>14.4</td>\n",
       "      <td>0.1901</td>\n",
       "      <td>2020-11-09 15:00:00</td>\n",
       "      <td>1.0</td>\n",
       "      <td>3.0</td>\n",
       "      <td>11</td>\n",
       "      <td>0</td>\n",
       "    </tr>\n",
       "  </tbody>\n",
       "</table>\n",
       "</div>"
      ],
      "text/plain": [
       "  PRIMARY_KEY  MATERIAL_CODE  BASE_RADIUS  POWER  CYLINDER  POWER_AXIS  \\\n",
       "0  CH6997_5_0         1001.0          8.7    9.0     -0.75       180.0   \n",
       "1  CH7603_9_0         1001.0          8.7    4.0     -3.25        50.0   \n",
       "2  CI1456_9_0         1001.0          8.7    0.5     -4.25       180.0   \n",
       "3  CI1456_A_0         1001.0          8.7    0.5     -4.25       180.0   \n",
       "4  CI1456_B_0         1001.0          8.7    0.5     -4.25       180.0   \n",
       "\n",
       "   DIAMETER  CENTER_THK          LAUNCH_DATE  CodFam  CodSubFam  month  \\\n",
       "0      14.4      0.4268  2020-11-09 15:00:00     1.0        3.0     11   \n",
       "1      14.4      0.3041  2020-11-09 15:00:00     1.0        3.0     11   \n",
       "2      14.4      0.1901  2020-11-09 15:00:00     1.0        3.0     11   \n",
       "3      14.4      0.1901  2020-11-09 15:00:00     1.0        3.0     11   \n",
       "4      14.4      0.1901  2020-11-09 15:00:00     1.0        3.0     11   \n",
       "\n",
       "   Cluster  \n",
       "0       16  \n",
       "1        2  \n",
       "2        0  \n",
       "3        0  \n",
       "4        0  "
      ]
     },
     "execution_count": 13,
     "metadata": {},
     "output_type": "execute_result"
    }
   ],
   "source": [
    "# Our final file needs to have the original data for the company to interpret, so we drop the encoded columns we created in the beginning for the clustering\n",
    "# Ultimately, we add the cluster to wich each rows belongs to\n",
    "jobOrder_B = pd.read_csv(\"jobOrder_B.csv\")\n",
    "not_relevantAB = [\"category_material\", \"category_fam\", \"category_subfam\"]\n",
    "jobOrder_B.drop(columns=not_relevantAB, inplace=True)\n",
    "\n",
    "jobOrder_B['Cluster'] = clusters\n",
    "jobOrder_B.head()"
   ]
  },
  {
   "cell_type": "code",
   "execution_count": 14,
   "metadata": {},
   "outputs": [
    {
     "data": {
      "text/plain": [
       "-1      1776380\n",
       " 324     100843\n",
       " 319      80187\n",
       " 8        66335\n",
       " 321      64484\n",
       "         ...   \n",
       " 427         31\n",
       " 519         30\n",
       " 516         29\n",
       " 511         27\n",
       " 402         14\n",
       "Name: Cluster, Length: 588, dtype: int64"
      ]
     },
     "execution_count": 14,
     "metadata": {},
     "output_type": "execute_result"
    }
   ],
   "source": [
    "jobOrder_B[\"Cluster\"].value_counts()"
   ]
  },
  {
   "cell_type": "code",
   "execution_count": 15,
   "metadata": {},
   "outputs": [],
   "source": [
    "# Save results to find \"made to stock\" combinations\n",
    "jobOrder_B.to_csv(\"clustering/clusterB_dbscan.csv\", header=True)"
   ]
  }
 ],
 "metadata": {
  "kernelspec": {
   "display_name": "base",
   "language": "python",
   "name": "python3"
  },
  "language_info": {
   "codemirror_mode": {
    "name": "ipython",
    "version": 3
   },
   "file_extension": ".py",
   "mimetype": "text/x-python",
   "name": "python",
   "nbconvert_exporter": "python",
   "pygments_lexer": "ipython3",
   "version": "3.9.13"
  },
  "orig_nbformat": 4
 },
 "nbformat": 4,
 "nbformat_minor": 2
}
